{
 "cells": [
  {
   "cell_type": "code",
   "execution_count": 1,
   "metadata": {},
   "outputs": [],
   "source": [
    "import torch\n",
    "from safetensors.numpy import load_file\n",
    "\n",
    "path = \"/mnt/ssd-1/gpaulo/SAE-Zoology/raw_features/gemma/131k/.model.layers.24/0_26213.safetensors\"\n",
    "x = load_file(path)"
   ]
  },
  {
   "cell_type": "code",
   "execution_count": 2,
   "metadata": {},
   "outputs": [
    {
     "data": {
      "text/plain": [
       "(103855983,)"
      ]
     },
     "execution_count": 2,
     "metadata": {},
     "output_type": "execute_result"
    }
   ],
   "source": [
    "x[\"activations\"].shape"
   ]
  },
  {
   "cell_type": "code",
   "execution_count": 3,
   "metadata": {},
   "outputs": [
    {
     "data": {
      "text/plain": [
       "array([   0,    1, 4510], dtype=uint16)"
      ]
     },
     "execution_count": 3,
     "metadata": {},
     "output_type": "execute_result"
    }
   ],
   "source": [
    "x[\"locations\"][0]"
   ]
  },
  {
   "cell_type": "code",
   "execution_count": 28,
   "metadata": {},
   "outputs": [],
   "source": [
    "from sae_auto_interp.config import ExperimentConfig, FeatureConfig\n",
    "from sae_auto_interp.features import (\n",
    "    FeatureDataset,\n",
    "    FeatureLoader\n",
    ")\n",
    "from sae_auto_interp.features.constructors import default_constructor\n",
    "from sae_auto_interp.features.samplers import sample\n",
    "\n",
    "sae_model = \"gemma/131k\"\n",
    "module = \".model.layers.24\"\n",
    "feature_dict = {f\"{module}\": torch.arange(0, 300)}\n",
    "feature_cfg = FeatureConfig(width=131072, n_splits=5, max_examples=100000, min_examples=200)\n",
    "experiment_cfg = ExperimentConfig(n_random=0, example_ctx_len=64, n_quantiles=5, n_examples_test=0, n_examples_train=3, train_type=\"quantiles\", test_type=\"even\")"
   ]
  },
  {
   "cell_type": "code",
   "execution_count": 29,
   "metadata": {},
   "outputs": [
    {
     "name": "stdout",
     "output_type": "stream",
     "text": [
      "EleutherAI/rpj-v2-sample  train[:1%]\n"
     ]
    }
   ],
   "source": [
    "from sae_auto_interp.features import FeatureDataset\n",
    "from functools import partial\n",
    "\n",
    "dataset = FeatureDataset(\n",
    "        raw_dir=f\"/mnt/ssd-1/gpaulo/SAE-Zoology/raw_features/{sae_model}\",\n",
    "        cfg=feature_cfg,\n",
    "        modules=[module],\n",
    "        features=feature_dict,\n",
    ")\n",
    "\n",
    "constructor=partial(\n",
    "            default_constructor,\n",
    "            tokens=dataset.tokens,\n",
    "            n_random=experiment_cfg.n_random, \n",
    "            ctx_len=experiment_cfg.example_ctx_len, \n",
    "            max_examples=feature_cfg.max_examples\n",
    "        )\n",
    "\n",
    "sampler=partial(sample,cfg=experiment_cfg)\n",
    "loader = FeatureLoader(dataset, constructor=constructor, sampler=sampler)\n",
    "    \n",
    "    "
   ]
  },
  {
   "cell_type": "code",
   "execution_count": 30,
   "metadata": {},
   "outputs": [
    {
     "data": {
      "text/plain": [
       "<sae_auto_interp.features.features.FeatureRecord at 0x7f37e9233880>"
      ]
     },
     "execution_count": 30,
     "metadata": {},
     "output_type": "execute_result"
    }
   ],
   "source": [
    "record = next(iter(loader))\n",
    "record"
   ]
  },
  {
   "cell_type": "code",
   "execution_count": 35,
   "metadata": {},
   "outputs": [
    {
     "data": {
      "text/plain": [
       ".model.layers.24_feature0"
      ]
     },
     "execution_count": 35,
     "metadata": {},
     "output_type": "execute_result"
    }
   ],
   "source": [
    "record.feature"
   ]
  },
  {
   "cell_type": "code",
   "execution_count": 31,
   "metadata": {},
   "outputs": [
    {
     "ename": "AttributeError",
     "evalue": "'FeatureRecord' object has no attribute 'test'",
     "output_type": "error",
     "traceback": [
      "\u001b[0;31m---------------------------------------------------------------------------\u001b[0m",
      "\u001b[0;31mAttributeError\u001b[0m                            Traceback (most recent call last)",
      "Cell \u001b[0;32mIn[31], line 1\u001b[0m\n\u001b[0;32m----> 1\u001b[0m [record\u001b[38;5;241m.\u001b[39mtest[i][\u001b[38;5;241m0\u001b[39m] \u001b[38;5;241m==\u001b[39m record\u001b[38;5;241m.\u001b[39mtrain[i] \u001b[38;5;28;01mfor\u001b[39;00m i \u001b[38;5;129;01min\u001b[39;00m \u001b[38;5;28mrange\u001b[39m(\u001b[38;5;28mlen\u001b[39m(\u001b[43mrecord\u001b[49m\u001b[38;5;241;43m.\u001b[39;49m\u001b[43mtest\u001b[49m))]\n",
      "\u001b[0;31mAttributeError\u001b[0m: 'FeatureRecord' object has no attribute 'test'"
     ]
    }
   ],
   "source": []
  },
  {
   "cell_type": "code",
   "execution_count": 5,
   "metadata": {},
   "outputs": [
    {
     "name": "stderr",
     "output_type": "stream",
     "text": [
      "/home/alex/.local/lib/python3.10/site-packages/transformers/tokenization_utils_base.py:1601: FutureWarning: `clean_up_tokenization_spaces` was not set. It will be set to `True` by default. This behavior will be depracted in transformers v4.45, and will be then set to `False` by default. For more details check this issue: https://github.com/huggingface/transformers/issues/31884\n",
      "  warnings.warn(\n",
      "100it [00:15,  6.44it/s]                       \n"
     ]
    },
    {
     "name": "stdout",
     "output_type": "stream",
     "text": [
      "Shape of average hidden state: torch.Size([768])\n",
      "Average hidden state: tensor([-1.5597e-02,  1.9991e-01, -3.0909e-01, -2.1394e-01, -8.1219e-02,\n",
      "         1.7844e-01,  4.5589e-01, -3.4884e-01,  2.1072e-01,  1.6034e-01,\n",
      "        -4.3308e-02,  9.5965e-02, -1.1289e-01,  2.6585e-02, -1.4579e+00,\n",
      "         1.1589e-01, -3.1624e-01, -1.8671e-01,  2.9398e-01,  4.5797e-02,\n",
      "        -2.8800e-01, -2.8639e-01,  2.1256e-01,  1.3595e-01,  2.5718e-02,\n",
      "        -1.9786e-01,  4.2287e-01, -1.6298e-01,  8.3939e-02,  2.5981e-01,\n",
      "        -3.2666e-02,  6.1304e-01,  3.7338e-01, -2.5341e-02, -1.4184e-01,\n",
      "        -1.2185e+00,  1.4762e-01,  2.0000e-02, -2.1953e-01,  2.8143e-01,\n",
      "         1.2926e-01, -1.0644e-01,  9.5938e-02,  3.9441e-02, -5.3910e-02,\n",
      "        -2.3664e-01,  1.2989e-01,  2.9985e-02,  2.8127e-01,  9.2150e-02,\n",
      "         2.8226e-01,  4.6701e-02, -3.3332e-03,  1.1925e-01, -2.1657e-01,\n",
      "        -1.1618e-01,  5.8302e-02, -3.9445e-03, -2.9537e-01, -6.3671e-01,\n",
      "         1.6072e-02, -7.9600e-02, -2.9425e-01,  2.5137e-01, -2.1661e+01,\n",
      "        -3.4250e-02,  1.8545e-02,  8.8222e-01, -5.4697e-01, -5.9843e-01,\n",
      "         3.6064e-01, -5.5009e-01, -1.1087e-01,  8.4610e-02, -1.6026e-01,\n",
      "        -2.8552e-01,  5.2737e-01, -3.2571e-01,  7.7016e-02,  2.0491e-01,\n",
      "        -8.9199e-02,  3.7140e-01,  1.2906e-01,  8.5685e-02, -2.1198e-01,\n",
      "        -3.1387e-01, -5.4980e-01,  5.9877e-01, -2.9101e-01, -5.8027e-02,\n",
      "         1.4205e-01, -6.8678e-02,  1.6388e-01,  4.2767e-02, -1.5693e-02,\n",
      "        -9.1452e-02,  1.1239e-01, -4.2983e-01,  3.2365e-01, -1.7305e-01,\n",
      "        -2.6500e-01,  1.4891e+00,  5.8979e-01,  2.9695e-03, -2.5353e-01,\n",
      "        -5.7876e-02,  1.4657e-01, -2.7554e-01, -3.9895e-02, -5.5131e-02,\n",
      "         2.9216e-01,  1.1579e-01, -1.7711e-02, -1.3153e-01, -5.0095e-02,\n",
      "        -5.1907e-02, -1.9628e-02,  1.6187e-01,  3.7024e-02,  1.9698e-01,\n",
      "        -8.2217e-02,  2.3312e-03, -1.9095e-01,  7.2246e-03,  3.2443e-01,\n",
      "        -9.6063e-02, -6.5372e-02, -1.5786e-01,  1.4288e-01, -6.0549e-01,\n",
      "        -1.3799e-02, -1.4378e-01, -1.6331e-01,  3.7826e-02,  6.9255e-02,\n",
      "         8.6808e-02,  2.2239e-01,  1.9677e-01,  3.3451e+00, -2.4714e-01,\n",
      "         1.5049e-01, -1.4045e-01, -2.7933e-02, -9.8808e-02, -7.3813e-02,\n",
      "        -4.2254e-02,  2.8581e-01, -2.4644e-01,  8.0586e-02, -1.0031e-01,\n",
      "         3.5926e-02,  5.2053e-01,  3.1069e-02, -2.2972e-01,  2.7617e-01,\n",
      "         6.9406e-03,  1.5224e-01,  1.7316e-01,  2.8226e-01, -1.8755e-01,\n",
      "         1.8258e+00, -3.7722e-01, -3.7136e-02,  4.2756e-02,  1.2874e-02,\n",
      "        -1.2264e-01,  1.1010e-01, -2.0264e+00,  5.7001e-02, -4.8299e-02,\n",
      "        -1.8948e-01,  2.2276e-01, -3.0015e-01,  4.3084e-02, -1.3565e-01,\n",
      "        -3.6169e-01,  3.3667e-01,  3.8409e-01,  8.8921e-01, -4.8754e-02,\n",
      "        -2.8917e-01,  1.2017e-01,  6.0437e-03, -3.6318e-01, -1.7270e-01,\n",
      "        -1.9126e-01,  2.9262e-02,  1.1562e-01, -1.8668e-04, -1.7993e-01,\n",
      "        -9.4192e-02, -2.1685e-01,  4.8868e-02,  1.7144e-01,  4.7459e-02,\n",
      "        -1.8832e+00, -1.9970e-01, -4.0532e-02, -4.1719e-02,  4.9532e-02,\n",
      "         2.7194e-01,  1.3961e-01,  2.8699e-01, -1.9786e-01, -1.3375e-01,\n",
      "         3.0317e-01,  1.1401e-01,  1.1393e-01,  4.6145e-01, -1.4031e-01,\n",
      "        -9.7801e-03, -5.0681e-01, -1.0264e-01, -7.6959e-02, -3.0433e-01,\n",
      "        -2.3381e-01, -2.8612e-01,  7.2696e-02, -3.4459e-01, -2.0020e-01,\n",
      "         2.8636e-01, -5.8108e-02, -4.7580e-01,  5.3088e-01, -1.8948e-01,\n",
      "         2.4083e-01, -1.4129e-01, -7.9002e-02,  3.2571e-02, -2.4733e-01,\n",
      "         1.0448e-01, -4.9173e-03,  2.1531e-01,  1.9429e-02,  6.1243e-02,\n",
      "        -1.1612e-01,  5.9254e-02, -4.5432e-02,  2.7012e-01,  2.4676e-01,\n",
      "        -5.4875e-01, -1.7300e-01, -8.8242e-02, -9.7935e-02,  2.0306e-02,\n",
      "        -1.4185e-01,  4.1154e-02,  1.0429e-02, -2.3785e-02, -2.4650e-01,\n",
      "        -2.7312e-01, -2.7379e-01,  3.0681e-01,  1.4378e-01, -1.9806e-02,\n",
      "         4.8104e-01,  1.2082e-01,  2.5714e-01,  3.5546e-01, -3.3152e-01,\n",
      "         1.7870e-01, -3.3617e-02, -1.5287e-01, -6.7777e-02,  1.0275e-02,\n",
      "         5.2752e-01,  3.0215e-01, -5.9729e-01, -3.8749e-01, -5.6093e-01,\n",
      "        -4.5309e-02, -9.8526e-01,  2.4098e-01, -2.8758e-01,  4.9592e-01,\n",
      "         6.5025e-02,  2.2116e-01, -1.7113e-02,  3.6147e-02,  2.1217e-01,\n",
      "         1.8158e-01, -1.9166e-01, -2.1719e-02, -8.7820e-01,  1.9472e-01,\n",
      "         2.3309e-01,  1.8880e-01, -2.3907e-01,  4.8624e+00, -2.6074e-01,\n",
      "        -9.3926e-02,  3.9544e-01,  4.9927e-02, -9.1764e-03, -2.2607e-01,\n",
      "         1.5023e-01,  1.7871e-01, -1.5692e-01, -1.7846e-01,  3.3964e-02,\n",
      "         3.3668e-01,  3.9525e-02,  2.4499e-01,  1.5670e-01,  1.0605e-01,\n",
      "        -1.8418e-01,  2.7406e-01, -1.6270e-01, -8.2053e-03, -1.6899e-01,\n",
      "         8.0062e-02, -1.0384e+00, -4.2625e-03,  2.0293e-01, -8.7259e-01,\n",
      "        -3.6577e-02,  3.3011e-01,  2.6151e-01,  2.2711e-02,  4.3511e-01,\n",
      "        -1.8749e-01, -2.1795e-03,  1.0714e-01,  3.8482e-01, -1.8767e-01,\n",
      "         2.9994e-01,  1.1494e+01,  4.1668e-02, -1.3682e-01,  2.1144e-01,\n",
      "        -1.4795e-01,  1.0786e-01,  2.0631e-01,  7.6337e-02, -2.0294e-01,\n",
      "         1.4324e-01,  1.4599e-01,  6.1975e-02, -8.2251e-02, -4.7172e-01,\n",
      "         4.1855e-02, -4.4746e-02,  2.5144e-02,  3.1062e-01,  4.0467e-01,\n",
      "         1.2972e-01,  3.3677e-02,  5.5602e-02,  1.7379e-01,  4.8891e-02,\n",
      "        -1.2365e-01, -1.0156e+00,  6.9473e-02, -1.2545e-01,  4.3581e-03,\n",
      "        -5.3580e-02, -3.0280e-01,  1.3778e-01,  2.2607e-01, -3.0658e-02,\n",
      "         3.8762e-01,  1.5468e-02, -2.1763e-01,  2.9399e-01,  2.8889e-01,\n",
      "         1.1164e-01, -1.6766e-01,  1.8161e-01,  2.4195e-01, -1.8535e-01,\n",
      "        -2.8865e-01, -1.5172e-01, -5.4976e-01, -1.9033e+01, -1.2203e-01,\n",
      "        -3.2997e-01, -5.0370e-01,  4.6292e-01,  6.1416e-01,  1.8969e-01,\n",
      "        -1.0954e-01,  1.4705e-01, -2.6963e-01,  2.6532e-01, -3.0871e-01,\n",
      "         1.2318e+00, -2.2443e-02,  1.2455e-01,  9.7475e-03,  7.2252e-02,\n",
      "        -1.8774e-01, -3.6360e-01,  2.3507e-01,  1.0632e+01, -7.1871e-02,\n",
      "        -8.4136e-02, -3.1118e-02, -5.1212e-02,  9.4253e-02,  2.5895e-02,\n",
      "        -1.2049e-01,  5.7740e-01, -3.8129e-01,  2.5886e-02,  1.5903e-01,\n",
      "         1.0339e-01,  6.5016e-02, -3.4445e-01,  2.7974e-01,  4.6255e-01,\n",
      "        -8.8278e-02,  4.8668e-02,  9.7993e-02, -2.4214e-02,  5.0318e-02,\n",
      "        -7.8342e-02, -2.2719e-01, -4.5438e-01, -1.5604e-01,  8.2830e-02,\n",
      "        -2.1712e-01, -4.0470e-01, -4.0094e-01,  3.0839e-02,  5.2215e-03,\n",
      "         2.1278e-01, -2.0792e-01, -2.3715e-02, -1.8876e-01, -1.6835e-01,\n",
      "         4.1189e-01,  7.0662e-03,  1.7203e-03,  1.3249e-01, -1.8885e-01,\n",
      "         6.8982e-03, -1.8622e-01, -3.9657e-01,  7.0580e-02,  2.3673e-01,\n",
      "        -1.0893e-01, -7.7455e-02, -4.6933e-03, -4.6970e-01,  2.2526e-02,\n",
      "         1.4373e-01, -2.1810e-01,  4.0648e+01, -1.5669e-01, -2.2767e-01,\n",
      "        -6.3738e-02, -1.9981e-02,  2.8010e-02,  9.9280e-02,  9.1426e-02,\n",
      "         6.8460e-01, -7.2055e-02,  7.3318e-02,  1.7758e-01,  3.0541e-01,\n",
      "        -6.0141e-02,  1.3252e-01, -5.2457e-02,  3.6909e-02,  6.6791e-01,\n",
      "        -2.9295e-01,  1.5754e-02, -1.2381e-01, -1.0123e-01,  1.6733e-01,\n",
      "         1.1901e-01,  2.2027e-02,  1.5658e-01, -4.3189e-01, -3.2858e-01,\n",
      "        -2.2106e-02, -1.0364e-01, -1.7132e-01, -1.6900e-01, -4.4985e-01,\n",
      "        -3.9524e+00,  2.4412e+00, -2.7458e-01,  2.1800e-01,  1.3548e-01,\n",
      "        -9.7640e-02, -3.9541e-01, -3.0490e-02,  2.0915e-01,  1.1085e-01,\n",
      "        -4.5236e-02, -2.1514e-01, -1.6770e-01,  2.2108e-01,  1.9409e-01,\n",
      "        -1.7567e-01,  8.7198e-01,  1.4776e-01, -1.9883e-01, -3.8884e-02,\n",
      "         2.5974e-01,  1.2850e-01,  6.0710e-02,  5.7420e-01,  7.7366e-02,\n",
      "         5.6064e-02,  5.9804e-02,  4.3613e-01, -4.2080e-02,  5.2881e-02,\n",
      "         7.5221e-02,  4.1814e-02, -2.5287e-01, -1.2895e-01,  1.7923e-01,\n",
      "         2.1936e-01, -3.0915e-01,  8.0079e-02,  2.6764e-01,  3.4108e-01,\n",
      "         2.7779e-01, -6.0982e-01, -1.0749e-02,  2.7641e-01,  3.6191e-01,\n",
      "         4.1668e-01, -4.0985e+00, -3.4486e-01, -2.3053e-01, -2.4552e-01,\n",
      "        -3.0221e-01,  1.7785e-01, -1.3694e-01, -1.6146e-01, -3.7318e-02,\n",
      "        -4.4801e-01, -9.2510e-02,  3.8479e-01, -3.4950e-01,  1.3850e-01,\n",
      "         5.1358e-01,  5.1594e-01, -1.3592e-01, -2.7213e-01, -1.5960e-01,\n",
      "         2.8290e-01,  5.0767e-02, -3.3237e-01, -1.1996e-01, -1.6789e-01,\n",
      "        -1.0550e-01, -1.3336e-01,  1.9050e-01, -6.9461e-03, -3.3883e+00,\n",
      "         2.2213e-01,  3.1324e-01,  1.8540e-01, -6.1903e-02, -8.9729e-03,\n",
      "         3.6679e-02,  2.3168e-03, -1.3568e-01,  3.2091e-02,  5.5199e-02,\n",
      "        -4.4586e-02, -1.8821e-02, -1.7369e-01,  1.5077e-01,  4.9487e-02,\n",
      "         5.3193e-01, -1.5333e-01, -5.9772e-02, -2.1041e-01, -6.5967e-01,\n",
      "         1.0649e+00, -2.3864e-01,  8.2724e-02, -5.0655e-01, -1.2280e-01,\n",
      "         3.2704e-02,  9.1990e-02, -4.9388e-02, -4.0120e-01,  5.0055e-02,\n",
      "         3.0948e-01,  2.5815e-01,  3.7706e-01,  2.0750e-01,  2.9976e-01,\n",
      "        -1.4421e-01, -2.5786e-01,  2.8580e-01,  1.9357e-01,  4.0869e-02,\n",
      "        -3.6288e-01, -2.9817e-02, -6.9680e-02,  5.9320e-02,  1.7538e-01,\n",
      "        -1.3266e-01, -2.2833e-01, -2.5630e-01, -2.0076e-02, -9.9523e-02,\n",
      "        -2.5858e-01,  2.4730e-01,  1.6267e-01,  4.3672e-01,  1.6528e-01,\n",
      "        -5.4709e-02,  3.7718e-01,  5.1155e-02,  2.7209e-01, -5.4601e-01,\n",
      "         6.6055e-02,  6.0312e-02, -1.0087e-01, -4.0929e-01,  1.4995e-01,\n",
      "        -4.8293e-01,  3.2177e-01,  5.4260e-03, -1.5885e-01, -4.5501e-01,\n",
      "        -1.5029e-01, -2.1025e-01,  1.4610e-02, -7.4083e-02, -5.9691e-02,\n",
      "        -1.8261e-01, -6.4435e-02, -2.9545e-01,  5.0050e-02, -7.7943e-02,\n",
      "        -2.5289e-01, -4.4326e-01,  2.0837e-01, -3.0815e-01,  1.4156e-01,\n",
      "         6.1515e+00, -1.0276e-01,  2.6692e-01, -7.0903e-02, -3.5937e-02,\n",
      "         1.0147e-02, -2.4365e-01,  4.8829e-01,  1.3710e-01, -3.4578e-01,\n",
      "        -4.5059e-02,  5.7276e-01, -9.6749e-03,  2.1877e-01,  4.8917e-02,\n",
      "         2.3957e-01,  1.6538e-02,  3.9397e-01, -1.6056e-01,  2.7228e-01,\n",
      "         3.2068e-02,  3.1388e-02,  5.9016e-02, -1.0963e-01,  1.2570e-01,\n",
      "         7.3775e-01, -4.0517e-01, -5.5250e-02, -6.7786e-02, -2.7437e-01,\n",
      "        -8.9706e-02, -7.0104e-02, -2.6346e-01, -2.6095e-01,  2.5053e-02,\n",
      "         1.5412e-02,  6.6143e-02,  8.4521e-02,  3.4842e-01,  2.1692e+00,\n",
      "         1.4673e-01, -2.0506e-01, -1.6698e-01,  3.1900e-01, -1.2833e-01,\n",
      "        -5.3070e-01, -4.4473e-02,  1.3401e-02, -1.2033e-01,  8.1319e-02,\n",
      "        -1.8112e-01,  3.1515e-01, -3.8162e-01,  8.3656e-02, -5.1942e-01,\n",
      "         3.9510e-02,  3.0693e-01, -1.4767e-01, -8.4322e-02,  4.9397e-02,\n",
      "        -1.7481e-02,  2.4479e-01,  1.8456e-01, -1.7613e-01, -6.0215e-01,\n",
      "        -1.4801e-01,  5.3305e-01,  8.1993e-04, -2.7915e-01,  4.7264e-02,\n",
      "         3.4805e-01,  2.6634e-01, -3.6366e-01, -1.9217e-01, -8.8605e-02,\n",
      "         4.0160e-01,  2.2310e-01,  1.3976e-01,  5.6319e-01,  1.0404e-01,\n",
      "        -1.7665e-01,  8.3680e-03, -8.2442e-02,  8.7660e-02,  4.4969e-01,\n",
      "        -1.8984e-01,  3.7025e-01,  1.0348e-01,  1.9628e-01, -2.5557e-02,\n",
      "         1.8564e-01, -1.8020e-01, -7.6965e-02, -2.5653e-01,  9.8746e-02,\n",
      "        -5.3244e-02,  1.8367e-02,  1.2085e-01,  1.1797e-01, -2.5986e-01,\n",
      "         1.6346e-01,  1.0622e-02,  1.5478e-01, -1.8046e-01,  2.6524e-01,\n",
      "        -3.8553e+00, -5.2628e-01, -2.0763e-01, -2.4166e-01,  2.1446e-01,\n",
      "        -1.6473e-01,  2.3129e-01,  2.2396e-01,  1.7180e-01, -1.1505e-01,\n",
      "        -8.4037e-02, -3.9907e+00, -3.2720e-01, -3.5339e-01, -2.6468e-02,\n",
      "         2.7649e-01,  2.1261e-01,  1.0763e-01,  7.1665e-02, -2.8667e-01,\n",
      "         7.5627e-02,  5.5804e-03, -4.2085e-02])\n",
      "Standard deviation of hidden state: tensor([ 0.4357,  0.4315,  0.4187,  0.3056,  0.3313,  0.4601,  0.7379,  0.7790,\n",
      "         0.3616,  0.2760,  0.5085,  0.4672,  0.3987,  0.4993,  0.9256,  0.3630,\n",
      "         0.5642,  0.4066,  0.5202,  0.3485,  0.4020,  0.3607,  0.3436,  0.6329,\n",
      "         0.4262,  0.3710,  0.4083,  0.4199,  0.3400,  0.4496,  0.3707,  0.6790,\n",
      "         0.3603,  0.4508,  0.2930,  1.0761,  0.5045,  0.2931,  0.3801,  0.4156,\n",
      "         0.3399,  0.4284,  0.3127,  0.4091,  0.4542,  0.4667,  0.3386,  0.2815,\n",
      "         0.4985,  0.6369,  0.4118,  0.4369,  0.4675,  0.4233,  0.3952,  0.6745,\n",
      "         0.2877,  0.4520,  0.3872,  0.7783,  0.4723,  0.4095,  0.4255,  0.4345,\n",
      "         5.3553,  0.3299,  0.3592,  0.6074,  0.4761,  0.6977,  0.3162,  0.6145,\n",
      "         0.4383,  0.3661,  0.4075,  0.4956,  0.4891,  0.6955,  0.4418,  0.4090,\n",
      "         0.4462,  0.3823,  0.2644,  0.4895,  0.4471,  0.4636,  0.5521,  5.1140,\n",
      "         0.4021,  0.4026,  0.3589,  0.3888,  0.4453,  0.4027,  0.3627,  0.3534,\n",
      "         0.4349,  0.3904,  0.4728,  0.8787,  0.4384,  0.7803,  0.5304,  0.4479,\n",
      "         0.4458,  0.3646,  0.4577,  0.6829,  0.3494,  0.3603,  0.3920,  0.4346,\n",
      "         0.3031,  0.4180,  0.5213,  0.3346,  0.5727,  0.4510,  0.4178,  0.6101,\n",
      "         0.4771,  0.3532,  0.5209,  0.4549,  0.3743,  0.4400,  0.4737,  0.5675,\n",
      "         0.5102,  0.4855,  0.6973,  0.3372,  0.4791,  0.3134,  0.3771,  0.3729,\n",
      "         0.4122,  0.7446,  4.9920,  0.3534,  0.4193,  0.5191,  0.6584,  0.5260,\n",
      "         0.3623,  0.4901,  0.4515,  0.4403,  0.3949,  0.4384,  0.5067,  0.6123,\n",
      "         0.5210,  0.4572,  0.4748,  0.3280,  0.4407,  0.4753,  0.3831,  0.5092,\n",
      "         1.3742,  0.4489,  0.3553,  0.3561,  0.4039,  0.3362,  0.3980,  0.9827,\n",
      "         0.4028,  0.7045,  0.4263,  0.3683,  0.4239,  0.5093,  0.4553,  0.4165,\n",
      "         0.7223,  0.3090,  0.5372,  0.3450,  0.3894,  0.4379,  0.3341,  0.6529,\n",
      "         0.3249,  0.4226,  0.3488,  0.5607,  0.4132,  0.4112,  0.4020,  0.4135,\n",
      "         0.3202,  0.6926,  0.3492,  0.9377,  0.4058,  0.4699,  0.3859,  0.5643,\n",
      "         0.4393,  0.3641,  0.4096,  0.5606,  0.4049,  0.4225,  0.3086,  0.3169,\n",
      "         0.5017,  0.6665,  0.2996,  0.4610,  0.4853,  0.5850,  0.4560,  0.3612,\n",
      "         0.6776,  0.3677,  0.6642,  0.4942,  0.5425,  0.6049,  0.4067,  0.5085,\n",
      "         0.5746,  0.4609,  0.3112,  0.3275,  0.4934,  0.3432,  0.3149,  0.4910,\n",
      "         0.7150,  0.3431,  0.3394,  0.9373,  0.5540,  0.3882,  0.6780,  0.6198,\n",
      "         0.6004,  0.6762,  0.3468,  0.4579,  0.3468,  0.4167,  0.4624,  0.7762,\n",
      "         0.4521,  0.4670,  0.3447,  0.4211,  0.3536,  0.4195,  0.4566,  0.7720,\n",
      "         0.4700,  0.4445,  0.4745,  0.3173,  0.4860,  0.3555,  0.3509,  0.4671,\n",
      "         0.3443,  0.3718, 10.0142,  0.8768,  0.3345,  0.3879,  0.4599,  0.8741,\n",
      "         0.4811,  0.4010,  0.7650,  0.5965,  0.6030,  0.3436,  0.4293,  0.3624,\n",
      "         0.2950,  0.3287,  0.4481,  0.5982,  0.7577,  0.6179,  0.3689,  0.4226,\n",
      "         1.4082,  0.8188,  0.6327,  0.4612,  0.5904,  0.2878,  0.4626,  0.3966,\n",
      "         0.3981,  0.3460,  0.3745,  0.3768,  0.5874,  0.3519,  0.3508,  0.3206,\n",
      "         0.2904,  0.4411,  0.3333,  0.3892,  0.6116,  0.3412,  0.4415,  0.5311,\n",
      "         0.4396,  0.4638,  1.0749,  0.4046,  0.6326,  0.4747,  0.3560,  0.5542,\n",
      "         0.4297,  0.4746,  0.4233,  0.5122,  0.4386,  0.5510,  1.2453,  0.3022,\n",
      "         0.3439,  0.3359,  0.4688,  0.4216,  0.4942,  0.3961,  0.4418,  0.4082,\n",
      "         0.5553,  0.3054,  0.2948,  0.8361,  0.3388,  0.4614,  0.4202,  0.5380,\n",
      "         0.4747,  0.5269,  0.4656,  0.4162,  0.4797,  0.4432,  0.4310,  0.7598,\n",
      "         0.4724,  0.4616,  0.4719,  0.4025,  0.6719,  0.3382,  0.3040,  0.3760,\n",
      "         0.5864,  0.4035,  0.6243,  0.5255,  0.4425,  0.5143,  0.3667,  0.5070,\n",
      "         0.2966,  0.5093,  0.5396,  0.5496,  0.4793,  1.5552,  0.4755,  0.6116,\n",
      "         0.4406,  0.5562,  0.9072,  0.3540,  0.4700,  0.3705,  0.4546,  0.5141,\n",
      "         0.5028,  0.8810,  0.3547,  0.2524,  0.3717,  0.6152,  0.3905,  0.4118,\n",
      "         0.3405,  1.1033,  0.5390,  0.3706,  0.3872,  0.5172,  0.3327,  0.4403,\n",
      "         0.4336,  0.5314,  0.4030,  0.4569,  0.4383,  0.3180,  0.3340,  0.3786,\n",
      "         0.5195,  0.4940,  0.3401,  0.3307,  0.3267,  0.2660,  0.5302,  0.4686,\n",
      "         0.4753,  0.6810,  0.5475,  0.3243,  1.0897,  0.4552,  0.3514,  0.4312,\n",
      "         0.3115,  0.2735,  0.4545,  0.4106,  0.3675,  0.3080,  0.6273,  0.3419,\n",
      "         0.3656,  0.3329,  0.4323,  0.4956,  0.5838,  0.4367,  0.4268,  0.5468,\n",
      "         0.5166,  0.3828,  0.5401,  0.5407,  0.5544,  0.4288,  0.4044, 18.4634,\n",
      "         0.3278,  0.3965,  0.5930,  0.4399,  0.3092,  0.4152,  0.4467,  0.4652,\n",
      "         0.4350,  0.4611,  0.3553,  1.0201,  0.3929,  0.5110,  0.4041,  0.3982,\n",
      "         0.7458,  0.4856,  0.3329,  0.4336,  0.3369,  0.4359,  0.3687,  0.4119,\n",
      "         0.4740,  0.5140,  0.3827,  0.3990,  0.5089,  0.5367,  0.4718,  0.5451,\n",
      "         3.6520,  0.9242,  0.2910,  0.4381,  0.4176,  0.3622,  0.4011,  0.3734,\n",
      "         0.5025,  0.3410,  0.3768,  0.3712,  0.3295,  0.5134,  0.3887,  0.3862,\n",
      "         0.5301,  0.8187,  0.6675,  0.3533,  0.4170,  0.3939,  0.4226,  0.6333,\n",
      "         0.3763,  0.4052,  0.4085,  0.4533,  0.4616,  0.3892,  0.2649,  0.2829,\n",
      "         0.4103,  0.3347,  0.4605,  0.4739,  0.4310,  0.3639,  0.4855,  0.3244,\n",
      "         0.3802,  0.3765,  0.3357,  0.3958,  0.3899,  0.3474,  1.1976,  0.4238,\n",
      "         0.3163,  0.4702,  0.3554,  0.3341,  0.3465,  0.3302,  0.3743,  0.6565,\n",
      "         0.4046,  0.4249,  0.5043,  0.4432,  0.6427,  0.4367,  0.3192,  0.7771,\n",
      "         0.5526,  0.6441,  0.4562,  0.4190,  0.4001,  0.5952,  0.3655,  0.4124,\n",
      "         0.3452,  0.5150,  1.6385,  0.4958,  0.3960,  0.4235,  0.3810,  0.2937,\n",
      "         0.3771,  0.4607,  0.3263,  0.3377,  0.3409,  0.5006,  0.5569,  0.5741,\n",
      "         0.4427,  0.4752,  1.0992,  0.3944,  0.4489,  0.3977,  0.4133,  0.8863,\n",
      "         0.3310,  0.3246,  0.5880,  0.4909,  0.6656,  0.3547,  0.5395,  0.4491,\n",
      "         0.3669,  0.4347,  0.3970,  0.4948,  0.3442,  0.4113,  0.4306,  0.3901,\n",
      "         0.4676,  0.5002,  0.3379,  0.4032,  0.3853,  0.3722,  0.6308,  0.3444,\n",
      "         0.3279,  0.3937,  0.3877,  0.3916,  0.3915,  0.3593,  0.3462,  0.4771,\n",
      "         0.8840,  0.4556,  0.4242,  0.2802,  0.6252,  0.3342,  0.5822,  0.4950,\n",
      "         0.5570,  0.3678,  0.9070,  0.4217,  0.8154,  0.5994,  0.3845,  0.4056,\n",
      "         1.0694,  0.3307,  0.3932,  0.5670,  0.4187,  0.3466,  0.3616,  0.5279,\n",
      "         0.3655,  0.3579,  0.3890,  0.6634,  0.4531,  0.3604,  0.5067,  0.4848,\n",
      "         1.4675,  0.8506,  0.6384,  0.4571,  0.6748,  0.4264,  0.4595,  1.0400,\n",
      "         0.4955,  0.7644,  0.3264,  0.7623,  0.3797,  0.3800,  0.2825,  0.3920,\n",
      "         0.3314,  0.4434,  0.3677,  0.7543,  0.3541,  0.7106,  0.4752,  0.3382,\n",
      "         0.5087,  0.4955,  0.4510,  0.4258,  0.2855,  0.5423,  0.6273,  0.3297,\n",
      "         0.3727,  0.5023,  0.5819,  0.3431,  0.3333,  0.3566,  0.5332,  0.9414,\n",
      "         0.5865,  0.3258,  0.6264,  0.7671,  0.4234,  0.4734,  0.5201,  0.3456,\n",
      "         0.4506,  0.3533,  0.3535,  0.4357,  0.2992,  0.4012,  0.3993,  0.4054,\n",
      "         0.3214,  0.4468,  0.5587,  0.8579,  0.3067,  0.5318,  0.4446,  0.6968,\n",
      "         0.5092,  0.3778,  0.5034,  0.3447,  0.6391,  0.5968,  0.3312,  0.5506,\n",
      "         0.4966,  0.4018,  0.4125,  0.5204,  0.4094,  0.2912,  0.7176,  0.3107,\n",
      "         0.4320,  0.4376,  0.3218,  0.5161,  0.5245,  0.3623,  0.4734,  0.6194,\n",
      "         0.5741,  0.4170,  0.4993,  0.3910,  0.4240,  0.2696,  0.4034,  0.3747,\n",
      "         0.2912,  0.4296,  0.5484,  0.7169,  0.3762,  0.3237,  0.4900,  0.3453,\n",
      "         0.3542,  0.9293,  0.3533,  0.3589,  0.5281,  0.3820,  0.4180,  0.3764,\n",
      "         0.3884,  0.3241,  0.4561,  0.6368,  1.6488,  0.4919,  0.4641,  0.3263,\n",
      "         0.3672,  0.4686,  0.5325,  0.4158,  0.3371,  0.3313,  0.4272,  0.3347])\n"
     ]
    }
   ],
   "source": [
    "import torch\n",
    "from transformers import GPT2Tokenizer, GPT2Model\n",
    "import json\n",
    "from tqdm import tqdm\n",
    "\n",
    "# Load GPT-2 model and tokenizer\n",
    "model = GPT2Model.from_pretrained('gpt2')\n",
    "tokenizer = GPT2Tokenizer.from_pretrained('gpt2')\n",
    "\n",
    "# Function to get hidden states for a single text\n",
    "def get_hidden_states(text):\n",
    "    inputs = tokenizer(text, return_tensors='pt', truncation=True, max_length=1024)\n",
    "    with torch.no_grad():\n",
    "        outputs = model(**inputs, output_hidden_states=True)\n",
    "    return outputs.hidden_states[5].squeeze(0)  # Layer 8\n",
    "\n",
    "# Initialize list to store hidden states\n",
    "all_hidden_states = []\n",
    "\n",
    "# Read and process 10 samples from pile.jsonl\n",
    "with open('pile.jsonl', 'r') as file:\n",
    "    for i, line in enumerate(tqdm(file, total=10)):\n",
    "        if i >= 100:\n",
    "            break\n",
    "        data = json.loads(line)\n",
    "        text = data['text']\n",
    "        hidden_states = get_hidden_states(text)\n",
    "        all_hidden_states.append(hidden_states)\n",
    "\n",
    "# Calculate average hidden state\n",
    "avg_hidden_state = torch.mean(torch.stack([hs.mean(dim=0) for hs in all_hidden_states]), dim=0)\n",
    "std_hidden_state = torch.std(torch.stack([hs.mean(dim=0) for hs in all_hidden_states]), dim=0)\n",
    "\n",
    "print(\"Shape of average hidden state:\", avg_hidden_state.shape)\n",
    "print(\"Average hidden state:\", avg_hidden_state)\n",
    "print(\"Standard deviation of hidden state:\", std_hidden_state)"
   ]
  },
  {
   "cell_type": "code",
   "execution_count": 42,
   "metadata": {},
   "outputs": [
    {
     "data": {
      "text/plain": [
       "torch.return_types.topk(\n",
       "values=tensor([[2742.2388],\n",
       "        [  40.2631],\n",
       "        [  40.1337],\n",
       "        ...,\n",
       "        [  26.1541],\n",
       "        [  14.5867],\n",
       "        [  23.3634]]),\n",
       "indices=tensor([[447],\n",
       "        [447],\n",
       "        [447],\n",
       "        ...,\n",
       "        [447],\n",
       "        [326],\n",
       "        [447]]))"
      ]
     },
     "execution_count": 42,
     "metadata": {},
     "output_type": "execute_result"
    }
   ],
   "source": [
    "torch.topk(torch.stack([h for hs in all_hidden_states for h in hs]), k=1)"
   ]
  },
  {
   "cell_type": "code",
   "execution_count": 31,
   "metadata": {},
   "outputs": [],
   "source": [
    "avg_hidden_states = torch.mean(torch.stack([h for hs in all_hidden_states for h in hs]), dim=1)"
   ]
  },
  {
   "cell_type": "code",
   "execution_count": 47,
   "metadata": {},
   "outputs": [
    {
     "data": {
      "text/plain": [
       "tensor(3.4529)"
      ]
     },
     "execution_count": 47,
     "metadata": {},
     "output_type": "execute_result"
    }
   ],
   "source": [
    "num_stds_over_0 = avg_hidden_state / std_hidden_state\n",
    "num_stds_over_0[288]"
   ]
  },
  {
   "cell_type": "code",
   "execution_count": 49,
   "metadata": {},
   "outputs": [
    {
     "data": {
      "image/png": "[encoded data removed]",
      "text/plain": [
       "<Figure size 2000x300 with 1 Axes>"
      ]
     },
     "metadata": {},
     "output_type": "display_data"
    }
   ],
   "source": [
    "plt.figure(figsize=(20, 3), dpi=100)\n",
    "plt.bar(range(len(std_hidden_state)), std_hidden_state)\n",
    "plt.title(\"Average hidden state over examples\")\n",
    "plt.xlabel(\"Feature position\")\n",
    "plt.ylabel(\"Average hidden state\")\n",
    "plt.show()"
   ]
  },
  {
   "cell_type": "code",
   "execution_count": 33,
   "metadata": {},
   "outputs": [
    {
     "data": {
      "text/plain": [
       "Text(0.5, 1.0, 'Distribution of mean_over_features(hidden state) over examples')"
      ]
     },
     "execution_count": 33,
     "metadata": {},
     "output_type": "execute_result"
    },
    {
     "data": {
      "image/png": "[encoded data removed]",
      "text/plain": [
       "<Figure size 640x480 with 1 Axes>"
      ]
     },
     "metadata": {},
     "output_type": "display_data"
    }
   ],
   "source": [
    "plt.hist(avg_hidden_state, bins=100)\n",
    "plt.semilogy()\n",
    "plt.title(\"Distribution of mean_over_features(hidden state) over examples\")"
   ]
  },
  {
   "cell_type": "code",
   "execution_count": 12,
   "metadata": {},
   "outputs": [
    {
     "data": {
      "image/png": "[encoded data removed]",
      "text/plain": [
       "<Figure size 640x480 with 1 Axes>"
      ]
     },
     "metadata": {},
     "output_type": "display_data"
    }
   ],
   "source": [
    "import matplotlib.pyplot as plt\n",
    "plt.hist(avg_hidden_state, label=\"mean\")\n",
    "plt.hist(std_hidden_state, label=\"std\")\n",
    "plt.semilogy()\n",
    "plt.legend()\n",
    "plt.show()"
   ]
  },
  {
   "cell_type": "code",
   "execution_count": 1,
   "metadata": {},
   "outputs": [
    {
     "data": {
      "text/plain": [
       "3298"
      ]
     },
     "execution_count": 1,
     "metadata": {},
     "output_type": "execute_result"
    }
   ],
   "source": [
    "\"\"\"\n",
    "PROMPT We're studying neurons in a neural network.\n",
    "Each neuron looks for some particular thing in a short document.\n",
    "Look at summary of what the neuron does, and try to predict how it will fire on each token.\n",
    "\n",
    "The activation format is token<tab>activation, activations go from 0 to 10, \"unknown\" indicates an unknown activation. Most activations will be 0.\n",
    "\n",
    "\n",
    "Neuron 1\n",
    "Explanation of neuron 1 behavior: the main thing this neuron does is find present tense verbs ending in 'ing'\n",
    "Activations: \n",
    "<start>\n",
    "t       unknown\n",
    "urt     unknown\n",
    "ur      unknown\n",
    "ro      unknown\n",
    " is     unknown\n",
    " fab    unknown\n",
    "ulously unknown\n",
    " funny  unknown\n",
    " and    unknown\n",
    " over   unknown\n",
    " the    0\n",
    " top    0\n",
    " as     0\n",
    " a      0\n",
    " '      0\n",
    "very    0\n",
    " sneaky 0\n",
    "'       1\n",
    " but    0\n",
    "ler     0\n",
    " who    0\n",
    " excel  0\n",
    "s       0\n",
    " in     0\n",
    " the    0\n",
    " art    0\n",
    " of     0\n",
    " impossible     0\n",
    " disappearing   6\n",
    "/       0\n",
    "re      0\n",
    "app     0\n",
    "earing  10\n",
    " acts   0\n",
    "<end>\n",
    "<start>\n",
    "esc     unknown\n",
    "aping   unknown\n",
    " the    unknown\n",
    " studio 0\n",
    " ,      0\n",
    " pic    0\n",
    "col     0\n",
    "i       0\n",
    " is     0\n",
    " warm   0\n",
    "ly      0\n",
    " affecting      3\n",
    " and    0\n",
    " so     0\n",
    " is     0\n",
    " this   0\n",
    " ad     0\n",
    "roit    0\n",
    "ly      0\n",
    " minimalist     0\n",
    " movie  0\n",
    " .      0\n",
    "<end>\n",
    "\n",
    "\n",
    "\n",
    "Neuron 2\n",
    "Explanation of neuron 2 behavior: the main thing this neuron does is find words related to physical medical conditions\n",
    "Activations: \n",
    "<start>\n",
    "as      unknown\n",
    " sac    unknown\n",
    "char    unknown\n",
    "ine     unknown\n",
    " movies unknown\n",
    " go     0\n",
    " ,      0\n",
    " this   0\n",
    " is     0\n",
    " likely 0\n",
    " to     0\n",
    " cause  0\n",
    " massive        0\n",
    " cardiac        0\n",
    " arrest 10\n",
    " if     0\n",
    " taken  0\n",
    " in     0\n",
    " large  0\n",
    " doses  0\n",
    " .      0\n",
    "<end>\n",
    "<start>\n",
    "shot    unknown\n",
    " perhaps        unknown\n",
    " '      unknown\n",
    "art     unknown\n",
    "istically       unknown\n",
    "'       unknown\n",
    " with   unknown\n",
    " handheld       unknown\n",
    " cameras        unknown\n",
    " and    unknown\n",
    " apparently     unknown\n",
    " no     unknown\n",
    " movie  unknown\n",
    " lights unknown\n",
    " by     unknown\n",
    " jo     unknown\n",
    "aquin   unknown\n",
    " b      unknown\n",
    "aca     unknown\n",
    "-       unknown\n",
    "as      0\n",
    "ay      0\n",
    " ,      0\n",
    " the    0\n",
    " low    0\n",
    "-       0\n",
    "budget  0\n",
    " production     0\n",
    " swings 0\n",
    " annoy  0\n",
    "ingly   0\n",
    " between        0\n",
    " vert   0\n",
    "igo     9\n",
    " and    0\n",
    " opacity        0\n",
    " .      0\n",
    "<end>\n",
    "\n",
    "\n",
    "\n",
    "Neuron 3\n",
    "Explanation of neuron 3 behavior: the main thing this neuron does is find phrases related to community\n",
    "Activations: \n",
    "<start>\n",
    "the     0\n",
    " sense  0\n",
    " of     0\n",
    " together       3\n",
    "ness    7\n",
    " in     0\n",
    " our    0\n",
    " town   1\n",
    " is     0\n",
    " strong 0\n",
    " .      0\n",
    "<end>\n",
    "<start>\n",
    "a       unknown\n",
    " buoy   unknown\n",
    "ant     unknown\n",
    " romantic       unknown\n",
    " comedy unknown\n",
    " about  unknown\n",
    " friendship     unknown\n",
    " ,      unknown\n",
    " love   unknown\n",
    " ,      unknown\n",
    " and    0\n",
    " the    0\n",
    " truth  0\n",
    " that   0\n",
    " we     2\n",
    "'re     4\n",
    " all    3\n",
    " in     7\n",
    " this   10\n",
    " together       5\n",
    " .      0\n",
    "<end>\n",
    "\n",
    "\n",
    "\n",
    "Neuron 4\n",
    "Explanation of neuron 4 behavior: the main thing this neuron does is find The words \"everybody\" and \"somebody\", as well as the prefix \"ifty\" in words like \"fifty\" and \"thrifty\".\n",
    "Activations: \n",
    "<start>\n",
    " gr     unknown\n",
    "ud      unknown\n",
    "ges     unknown\n",
    ".       unknown\n",
    " Everybody      unknown\n",
    " is     unknown\n",
    " sick   unknown\n",
    " of     unknown\n",
    " losing unknown\n",
    " so     unknown\n",
    " something      unknown\n",
    " has    unknown\n",
    " got    unknown\n",
    " to     unknown\n",
    " change unknown\n",
    " and    unknown\n",
    " we     unknown\n",
    "'ve     unknown\n",
    " got    unknown\n",
    " to     unknown\n",
    "<end>\"\"\".__len__()"
   ]
  },
  {
   "cell_type": "code",
   "execution_count": 7,
   "metadata": {},
   "outputs": [],
   "source": [
    "from sae_auto_interp.clients.local import Local"
   ]
  },
  {
   "cell_type": "code",
   "execution_count": 15,
   "metadata": {},
   "outputs": [
    {
     "name": "stderr",
     "output_type": "stream",
     "text": [
      "  0%|          | 0/12 [00:00<?, ?it/s]"
     ]
    },
    {
     "name": "stdout",
     "output_type": "stream",
     "text": [
      "torch.Size([319946752]) torch.Size([319946752, 3])\n"
     ]
    },
    {
     "name": "stderr",
     "output_type": "stream",
     "text": [
      "  8%|▊         | 1/12 [00:18<03:19, 18.14s/it]"
     ]
    },
    {
     "name": "stdout",
     "output_type": "stream",
     "text": [
      "torch.Size([319946752]) torch.Size([319946752, 3])\n"
     ]
    },
    {
     "name": "stderr",
     "output_type": "stream",
     "text": [
      " 17%|█▋        | 2/12 [00:39<03:20, 20.02s/it]"
     ]
    },
    {
     "name": "stdout",
     "output_type": "stream",
     "text": [
      "torch.Size([319946752]) torch.Size([319946752, 3])\n"
     ]
    },
    {
     "name": "stderr",
     "output_type": "stream",
     "text": [
      " 25%|██▌       | 3/12 [01:05<03:26, 22.97s/it]"
     ]
    },
    {
     "name": "stdout",
     "output_type": "stream",
     "text": [
      "torch.Size([319321856]) torch.Size([319321856, 3])\n"
     ]
    },
    {
     "name": "stderr",
     "output_type": "stream",
     "text": [
      " 33%|███▎      | 4/12 [01:33<03:18, 24.85s/it]"
     ]
    },
    {
     "name": "stdout",
     "output_type": "stream",
     "text": [
      "torch.Size([319946752]) torch.Size([319946752, 3])\n"
     ]
    },
    {
     "name": "stderr",
     "output_type": "stream",
     "text": [
      " 42%|████▏     | 5/12 [01:58<02:54, 24.91s/it]"
     ]
    },
    {
     "name": "stdout",
     "output_type": "stream",
     "text": [
      "torch.Size([319946752]) torch.Size([319946752, 3])\n"
     ]
    },
    {
     "name": "stderr",
     "output_type": "stream",
     "text": [
      " 50%|█████     | 6/12 [02:21<02:24, 24.16s/it]"
     ]
    },
    {
     "name": "stdout",
     "output_type": "stream",
     "text": [
      "torch.Size([319946752]) torch.Size([319946752, 3])\n"
     ]
    },
    {
     "name": "stderr",
     "output_type": "stream",
     "text": [
      " 58%|█████▊    | 7/12 [02:43<01:58, 23.64s/it]"
     ]
    },
    {
     "name": "stdout",
     "output_type": "stream",
     "text": [
      "torch.Size([319946752]) torch.Size([319946752, 3])\n"
     ]
    },
    {
     "name": "stderr",
     "output_type": "stream",
     "text": [
      " 67%|██████▋   | 8/12 [03:08<01:35, 23.86s/it]"
     ]
    },
    {
     "name": "stdout",
     "output_type": "stream",
     "text": [
      "torch.Size([319946752]) torch.Size([319946752, 3])\n"
     ]
    },
    {
     "name": "stderr",
     "output_type": "stream",
     "text": [
      " 75%|███████▌  | 9/12 [03:30<01:10, 23.46s/it]"
     ]
    },
    {
     "name": "stdout",
     "output_type": "stream",
     "text": [
      "torch.Size([319946752]) torch.Size([319946752, 3])\n"
     ]
    },
    {
     "name": "stderr",
     "output_type": "stream",
     "text": [
      " 83%|████████▎ | 10/12 [03:57<00:48, 24.32s/it]"
     ]
    },
    {
     "name": "stdout",
     "output_type": "stream",
     "text": [
      "torch.Size([319946752]) torch.Size([319946752, 3])\n"
     ]
    },
    {
     "name": "stderr",
     "output_type": "stream",
     "text": [
      " 92%|█████████▏| 11/12 [04:24<00:25, 25.23s/it]"
     ]
    },
    {
     "name": "stdout",
     "output_type": "stream",
     "text": [
      "torch.Size([319946752]) torch.Size([319946752, 3])\n"
     ]
    },
    {
     "name": "stderr",
     "output_type": "stream",
     "text": [
      "100%|██████████| 12/12 [04:48<00:00, 24.04s/it]\n"
     ]
    }
   ],
   "source": [
    "import torch\n",
    "from pathlib import Path\n",
    "from tqdm import tqdm\n",
    "\n",
    "dir = \"/mnt/ssd-1/gpaulo/SAE-Zoology/raw_features_small\"\n",
    "to_dir = \"/mnt/ssd-1/alexm/sae-auto-interp/raw_features_small_100\"\n",
    "\n",
    "for i in tqdm(range(12)):\n",
    "    acts = torch.load(Path(dir) / f\".transformer.h.{i}_activations.pt\")\n",
    "    locs = torch.load(Path(dir) / f\".transformer.h.{i}_locations.pt\")\n",
    "    mask = torch.zeros(locs.shape[0], dtype=torch.bool, device=locs.device)\n",
    "    for doc_id in doc_ids:\n",
    "        mask |= (locs[:, 0] == doc_id)\n",
    "\n",
    "    print(acts.shape, locs.shape)\n",
    "    acts = acts[mask]\n",
    "    locs = locs[mask]\n",
    "\n",
    "    Path(to_dir).mkdir(parents=True, exist_ok=True)\n",
    "    torch.save(acts, Path(to_dir) / f\".transformer.h.{i}_activations.pt\")\n",
    "    torch.save(locs, Path(to_dir) / f\".transformer.h.{i}_locations.pt\")"
   ]
  },
  {
   "cell_type": "code",
   "execution_count": 11,
   "metadata": {},
   "outputs": [],
   "source": [
    "unq_docs = locs[:, 0].unique()\n",
    "doc_ids = unq_docs[torch.randperm(len(unq_docs))[:100]]"
   ]
  },
  {
   "cell_type": "code",
   "execution_count": 12,
   "metadata": {},
   "outputs": [
    {
     "data": {
      "text/plain": [
       "tensor([101349,  29413, 125705,  73835,  52939, 145039,   4404,  55661,   9918,\n",
       "         24270,  23055,  84188, 152561,  10548,  17811,  57152,  64676, 107807,\n",
       "        151508,  15560, 147384,  46934,  42903,  36847,  42751,  78344,  92790,\n",
       "        130456, 136786,  57101,  16977, 103945,   6186,  79273, 142734, 104237,\n",
       "         94164,  79059,  45354,   7114,   1415,  51283,  33558, 128410,  62507,\n",
       "        154007,  16198,  50643, 106148,  67986,  61115,  38900, 112472, 135565,\n",
       "        155764,  96492,  25015,  77283,  61304,   6112,  18329,  28222, 147504,\n",
       "         45090,  20943, 120772, 127039,  93473,  28870,  35071, 148629,  73410,\n",
       "        152587,   9854, 119351,   3143, 127898,  31417,  42057,  40011,  56492,\n",
       "         68011, 115601, 142962,  43419,  53236, 129214,  97671, 129682, 148212,\n",
       "          5068,  85924, 138182,   3414,  28572, 110296,  41049,  64379,   8470,\n",
       "         79833])"
      ]
     },
     "execution_count": 12,
     "metadata": {},
     "output_type": "execute_result"
    }
   ],
   "source": [
    "doc_ids"
   ]
  },
  {
   "cell_type": "code",
   "execution_count": null,
   "metadata": {},
   "outputs": [],
   "source": [
    "from vllm import LLM, SamplingParams\n",
    "import torch\n",
    "\n",
    "# Initialize the model\n",
    "llm = LLM(model=\"meta-llama/Meta-Llama-3-8B\")  # Replace with your desired model\n",
    "\n",
    "# Define your prompt\n",
    "prompt = \"The quick brown fox\"\n",
    "\n",
    "# Create a sampling params object with zero new tokens\n",
    "sampling_params = SamplingParams(temperature=1.0, max_tokens=0)\n",
    "\n",
    "# Get the outputs\n",
    "outputs = llm.generate([prompt], sampling_params)\n",
    "\n",
    "# Access the internal LLM model\n",
    "model = llm.llm_engine.workers[0].model\n",
    "\n",
    "# Tokenize the input\n",
    "input_ids = llm.llm_engine.tokenizer.encode(prompt, return_tensors=\"pt\").to(model.device)\n",
    "\n",
    "# Forward pass through the model\n",
    "with torch.no_grad():\n",
    "    outputs = model(input_ids, output_hidden_states=True)\n",
    "\n",
    "# Get the last hidden states\n",
    "last_hidden_states = outputs.hidden_states[-1]\n",
    "\n",
    "# Get the logits for each position\n",
    "logits = model.lm_head(last_hidden_states)\n",
    "\n",
    "# Print the logits shape\n",
    "print(f\"Logits shape: {logits.shape}\")\n",
    "\n",
    "# Optionally, print logits for a specific position\n",
    "position = 0  # Change this to get logits for different positions\n",
    "print(f\"Logits for position {position}:\")\n",
    "print(logits[0, position, :10])  # Print first 10 logits for brevity"
   ]
  },
  {
   "cell_type": "code",
   "execution_count": 6,
   "metadata": {},
   "outputs": [],
   "source": [
    "def read_idx_file(file_path):\n",
    "    with open(file_path, 'rb') as file:\n",
    "        # Read the file in binary mode\n",
    "        content = file.read()\n",
    "        \n",
    "    # Print the first few bytes as hexadecimal\n",
    "    print(\"First 20 bytes:\", content[:20].hex())\n",
    "    \n",
    "    # You might need to implement specific parsing logic here\n",
    "    # based on the file's structure\n",
    "\n",
    "file_path = '/mnt/ssd-1/nora/pile.idx'\n",
    "read_idx_file(file_path)"
   ]
  },
  {
   "cell_type": "code",
   "execution_count": 24,
   "metadata": {},
   "outputs": [],
   "source": [
    "from pathlib import Path\n",
    "import json\n",
    "import os\n",
    "\n",
    "paths = Path(\"/mnt/ssd-1/pile\").glob(\"*.jsonl\")\n",
    "\n",
    "keep = []\n",
    "for path in paths:\n",
    "    with open(path, \"r\") as file:\n",
    "        for line in file:\n",
    "            datum = json.loads(line)\n",
    "            if datum[\"meta\"][\"pile_set_name\"] in [\"ArXiv\"]: #, \"PubMed Abstracts\", \"StackExchange\"]:\n",
    "                keep.append(datum)"
   ]
  },
  {
   "cell_type": "code",
   "execution_count": 25,
   "metadata": {},
   "outputs": [
    {
     "data": {
      "text/plain": [
       "713001"
      ]
     },
     "execution_count": 25,
     "metadata": {},
     "output_type": "execute_result"
    }
   ],
   "source": [
    "len(keep)"
   ]
  },
  {
   "cell_type": "code",
   "execution_count": 26,
   "metadata": {},
   "outputs": [],
   "source": [
    "save_path = f\"train_pile_arxiv_{len(keep)}.jsonl\"\n",
    "with open(save_path, \"w\") as file:\n",
    "    for datum in keep:\n",
    "        file.write(json.dumps(datum) + \"\\n\")"
   ]
  },
  {
   "cell_type": "code",
   "execution_count": 11,
   "metadata": {},
   "outputs": [
    {
     "data": {
      "text/plain": [
       "meta\n",
       "{'pile_set_name': 'Pile-CC'}              0.245922\n",
       "{'pile_set_name': 'OpenWebText2'}         0.155588\n",
       "{'pile_set_name': 'StackExchange'}        0.139516\n",
       "{'pile_set_name': 'PubMed Abstracts'}     0.139148\n",
       "{'pile_set_name': 'Github'}               0.085419\n",
       "{'pile_set_name': 'Wikipedia (en)'}       0.081418\n",
       "{'pile_set_name': 'USPTO Backgrounds'}    0.053044\n",
       "{'pile_set_name': 'PubMed Central'}       0.027843\n",
       "{'pile_set_name': 'FreeLaw'}              0.023729\n",
       "{'pile_set_name': 'ArXiv'}                0.011338\n",
       "{'pile_set_name': 'DM Mathematics'}       0.009349\n",
       "{'pile_set_name': 'NIH ExPorter'}         0.008501\n",
       "{'pile_set_name': 'HackerNews'}           0.007542\n",
       "{'pile_set_name': 'Enron Emails'}         0.004411\n",
       "{'pile_set_name': 'OpenSubtitles'}        0.002893\n",
       "{'pile_set_name': 'YoutubeSubtitles'}     0.001519\n",
       "{'pile_set_name': 'Books3'}               0.001402\n",
       "{'pile_set_name': 'EuroParl'}             0.000620\n",
       "{'pile_set_name': 'PhilPapers'}           0.000298\n",
       "{'pile_set_name': 'Gutenberg (PG-19)'}    0.000279\n",
       "{'pile_set_name': 'BookCorpus2'}          0.000121\n",
       "{'pile_set_name': 'Ubuntu IRC'}           0.000098\n",
       "Name: count, dtype: float64"
      ]
     },
     "execution_count": 11,
     "metadata": {},
     "output_type": "execute_result"
    }
   ],
   "source": [
    "import pandas as pd\n",
    "\n",
    "df = pd.read_json(\"pile.jsonl\", lines=True)\n",
    "df[\"meta\"].value_counts() / len(df)"
   ]
  }
 ],
 "metadata": {
  "kernelspec": {
   "display_name": "autointerp",
   "language": "python",
   "name": "python3"
  },
  "language_info": {
   "codemirror_mode": {
    "name": "ipython",
    "version": 3
   },
   "file_extension": ".py",
   "mimetype": "text/x-python",
   "name": "python",
   "nbconvert_exporter": "python",
   "pygments_lexer": "ipython3",
   "version": "3.10.14"
  }
 },
 "nbformat": 4,
 "nbformat_minor": 2
}
