{
 "cells": [
  {
   "cell_type": "markdown",
   "metadata": {},
   "source": [
    "# Scoring explanations after generation"
   ]
  },
  {
   "cell_type": "markdown",
   "metadata": {},
   "source": [
    "Here we will show a simple example of how to score the explanations generated"
   ]
  },
  {
   "cell_type": "code",
   "execution_count": 1,
   "metadata": {},
   "outputs": [],
   "source": [
    "from functools import partial\n",
    "import os   \n",
    "import torch\n",
    "import orjson\n",
    "import asyncio\n",
    "from delphi.clients import OpenRouter\n",
    "from delphi.config import ExperimentConfig, FeatureConfig\n",
    "from delphi.explainers import explanation_loader\n",
    "from delphi.features import (\n",
    "    FeatureDataset,\n",
    "    FeatureLoader\n",
    ")\n",
    "from delphi.features.constructors import default_constructor\n",
    "from delphi.features.samplers import sample\n",
    "from delphi.pipeline import Pipeline, process_wrapper\n",
    "from delphi.scorers import FuzzingScorer\n",
    "\n",
    "\n",
    "\n",
    "API_KEY = os.getenv(\"OPENROUTER_API_KEY\")"
   ]
  },
  {
   "cell_type": "code",
   "execution_count": 3,
   "metadata": {},
   "outputs": [],
   "source": [
    "feature_cfg = FeatureConfig(\n",
    "    width=131072, # The number of latents of your SAE\n",
    "    min_examples=200, # The minimum number of examples to consider for the feature to be explained\n",
    "    max_examples=10000, # The maximum number of examples to be sampled from\n",
    "    n_splits=5 # How many splits was the cache split into\n",
    ")\n"
   ]
  },
  {
   "cell_type": "code",
   "execution_count": 5,
   "metadata": {},
   "outputs": [
    {
     "data": {
      "application/vnd.jupyter.widget-view+json": {
       "model_id": "106d483d37a84fafb7371e167f94181a",
       "version_major": 2,
       "version_minor": 0
      },
      "text/plain": [
       "Resolving data files:   0%|          | 0/150 [00:00<?, ?it/s]"
      ]
     },
     "metadata": {},
     "output_type": "display_data"
    }
   ],
   "source": [
    "module = \".model.layers.10\" # The layer to score\n",
    "feature_dict = {module: torch.arange(0,100)} # The what latents to score\n",
    "\n",
    "dataset = FeatureDataset(\n",
    "        raw_dir=\"latents\", # The folder where the cache is stored\n",
    "        cfg=feature_cfg,\n",
    "        modules=[module],\n",
    "        features=feature_dict,\n",
    ")\n"
   ]
  },
  {
   "cell_type": "markdown",
   "metadata": {},
   "source": [
    "We need to define the config for the examples shown to the scorer model.\n",
    "When selecting the examples to be shown to the scorer model we can select them from:\n",
    "- \"quantiles\", which gets examples from the quantiles of the data\n",
    "- \"activations\", which gets examples from activation bins."
   ]
  },
  {
   "cell_type": "code",
   "execution_count": 7,
   "metadata": {},
   "outputs": [],
   "source": [
    "\n",
    "experiment_cfg = ExperimentConfig(\n",
    "    n_examples_test=20, # Number of examples to sample for testing\n",
    "    n_quantiles=10, # Number of quantiles to sample\n",
    "    example_ctx_len=32, # Length of each example\n",
    "    test_type=\"quantiles\", # Type of sampler to use for testing. \n",
    ")\n"
   ]
  },
  {
   "cell_type": "markdown",
   "metadata": {},
   "source": [
    "The constructor and sampler here are the same as the ones used in the generation of the explanations.\n"
   ]
  },
  {
   "cell_type": "code",
   "execution_count": 8,
   "metadata": {},
   "outputs": [],
   "source": [
    "constructor=partial(\n",
    "            default_constructor,\n",
    "            n_random=experiment_cfg.n_random, \n",
    "            ctx_len=experiment_cfg.example_ctx_len, \n",
    "            max_examples=feature_cfg.max_examples\n",
    "        )\n",
    "sampler=partial(sample,cfg=experiment_cfg)\n",
    "loader = FeatureLoader(dataset, constructor=constructor, sampler=sampler)\n",
    "    "
   ]
  },
  {
   "cell_type": "markdown",
   "metadata": {},
   "source": [
    "Although we could generate the explanations in the pipeline, here we load the explanations already generated. Then we define the scorer. Because the scorer should use information from the previous pipe, we have a preprocess and a postprocess function."
   ]
  },
  {
   "cell_type": "code",
   "execution_count": null,
   "metadata": {},
   "outputs": [],
   "source": [
    "client = OpenRouter(\"anthropic/claude-3.5-sonnet\",api_key=API_KEY)\n",
    "\n",
    "# Load the explanations already generated\n",
    "explainer_pipe = partial(explanation_loader, explanation_dir=\"results/explanations\")\n",
    "\n",
    "\n",
    "# Builds the record from result returned by the pipeline\n",
    "def scorer_preprocess(result):\n",
    "        record = result.record   \n",
    "        record.explanation = result.explanation\n",
    "        record.extra_examples = record.not_active\n",
    "\n",
    "        return record\n",
    "\n",
    "# Saves the score to a file\n",
    "def scorer_postprocess(result, score_dir):\n",
    "    with open(f\"results/scores/{result.record.feature}.txt\", \"wb\") as f:\n",
    "        f.write(orjson.dumps(result.score))\n",
    "\n",
    "\n",
    "scorer_pipe = process_wrapper(\n",
    "    FuzzingScorer(client, tokenizer=dataset.tokenizer),\n",
    "    preprocess=scorer_preprocess,\n",
    "    postprocess=partial(scorer_postprocess, score_dir=\"fuzz\"),\n",
    ")"
   ]
  },
  {
   "cell_type": "markdown",
   "metadata": {},
   "source": [
    "Now our pipeline only has three steps."
   ]
  },
  {
   "cell_type": "code",
   "execution_count": null,
   "metadata": {},
   "outputs": [],
   "source": [
    "pipeline = Pipeline(\n",
    "    loader,\n",
    "    explainer_pipe,\n",
    "    scorer_pipe,\n",
    ")\n",
    "number_of_parallel_latents = 10\n",
    "asyncio.run(pipeline.run(number_of_parallel_latents)) # This will start generating the explanations."
   ]
  }
 ],
 "metadata": {
  "kernelspec": {
   "display_name": "base",
   "language": "python",
   "name": "python3"
  },
  "language_info": {
   "codemirror_mode": {
    "name": "ipython",
    "version": 3
   },
   "file_extension": ".py",
   "mimetype": "text/x-python",
   "name": "python",
   "nbconvert_exporter": "python",
   "pygments_lexer": "ipython3",
   "version": "3.10.13"
  }
 },
 "nbformat": 4,
 "nbformat_minor": 2
}
