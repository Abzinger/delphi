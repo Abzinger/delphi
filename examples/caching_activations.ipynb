{
 "cells": [
  {
   "cell_type": "markdown",
   "metadata": {},
   "source": [
    "# Caching Autoencoder Activations"
   ]
  },
  {
   "cell_type": "markdown",
   "metadata": {},
   "source": [
    "Here we show a minimal example of how to cache autoencoder activations after loading the autoencoders into a model. We use the Gemma autoencoders for this example, but the procedure is the same for the other autoencoders."
   ]
  },
  {
   "cell_type": "markdown",
   "metadata": {},
   "source": [
    "## Loading the Autoencoders"
   ]
  },
  {
   "cell_type": "markdown",
   "metadata": {},
   "source": [
    "This code could be substituted for any of the other autoencoders (see the [loading autoencoders](loading_saes.ipynb) example).\n"
   ]
  },
  {
   "cell_type": "code",
   "execution_count": 5,
   "metadata": {},
   "outputs": [],
   "source": [
    "from nnsight import LanguageModel\n",
    "from delphi.autoencoders import load_gemma_autoencoders\n"
   ]
  },
  {
   "cell_type": "code",
   "execution_count": 2,
   "metadata": {},
   "outputs": [
    {
     "data": {
      "application/vnd.jupyter.widget-view+json": {
       "model_id": "74f50f88e37d4803a9e156692791596d",
       "version_major": 2,
       "version_minor": 0
      },
      "text/plain": [
       "Loading checkpoint shards:   0%|          | 0/8 [00:00<?, ?it/s]"
      ]
     },
     "metadata": {},
     "output_type": "display_data"
    }
   ],
   "source": [
    "# Load the model\n",
    "model = LanguageModel(\"google/gemma-2-9b\", device_map=\"cuda\", dispatch=True,torch_dtype=\"float16\")\n",
    "\n",
    "# Load the autoencoders, the function returns a dictionary of the submodules with the autoencoders and the edited model.\n",
    "# it takes as arguments the model, the layers to load the autoencoders into,\n",
    "# the average L0 sparsity per layer, the size of the autoencoders and the type of autoencoders (residuals or MLPs).\n",
    "\n",
    "submodule_dict,model = load_gemma_autoencoders(\n",
    "            model,\n",
    "            ae_layers=[10],\n",
    "            average_l0s={10: 47},\n",
    "            size=\"131k\",\n",
    "            type=\"res\"\n",
    "        )"
   ]
  },
  {
   "cell_type": "markdown",
   "metadata": {},
   "source": [
    "## Loading the tokens and creating the cache"
   ]
  },
  {
   "cell_type": "code",
   "execution_count": 3,
   "metadata": {},
   "outputs": [],
   "source": [
    "from delphi.config import CacheConfig\n",
    "from delphi.features import FeatureCache\n",
    "from delphi.utils import load_tokenized_data\n"
   ]
  },
  {
   "cell_type": "code",
   "execution_count": 4,
   "metadata": {},
   "outputs": [
    {
     "name": "stdout",
     "output_type": "stream",
     "text": [
      "EleutherAI/rpj-v2-sample  train[:1%]\n"
     ]
    },
    {
     "data": {
      "application/vnd.jupyter.widget-view+json": {
       "model_id": "e047a40b6e1f478182c2a3814fefe5d5",
       "version_major": 2,
       "version_minor": 0
      },
      "text/plain": [
       "README.md:   0%|          | 0.00/1.08k [00:00<?, ?B/s]"
      ]
     },
     "metadata": {},
     "output_type": "display_data"
    },
    {
     "data": {
      "application/vnd.jupyter.widget-view+json": {
       "model_id": "439666d6e12449e888c802a70bf67092",
       "version_major": 2,
       "version_minor": 0
      },
      "text/plain": [
       "Resolving data files:   0%|          | 0/150 [00:00<?, ?it/s]"
      ]
     },
     "metadata": {},
     "output_type": "display_data"
    },
    {
     "data": {
      "application/vnd.jupyter.widget-view+json": {
       "model_id": "eb141ece90824c37ae313e64efce2ecf",
       "version_major": 2,
       "version_minor": 0
      },
      "text/plain": [
       "Downloading data:   0%|          | 0/150 [00:00<?, ?files/s]"
      ]
     },
     "metadata": {},
     "output_type": "display_data"
    },
    {
     "data": {
      "application/vnd.jupyter.widget-view+json": {
       "model_id": "38fd12f1fcc04e24827d3a7400c85126",
       "version_major": 2,
       "version_minor": 0
      },
      "text/plain": [
       "(…)-00000-of-00150-8f23e895cbc7648c.parquet:   0%|          | 0.00/234M [00:00<?, ?B/s]"
      ]
     },
     "metadata": {},
     "output_type": "display_data"
    },
    {
     "data": {
      "application/vnd.jupyter.widget-view+json": {
       "model_id": "9a3abb41f2174a479380d8abbf643c77",
       "version_major": 2,
       "version_minor": 0
      },
      "text/plain": [
       "(…)-00001-of-00150-602e9ca9567434ce.parquet:   0%|          | 0.00/211M [00:00<?, ?B/s]"
      ]
     },
     "metadata": {},
     "output_type": "display_data"
    },
    {
     "data": {
      "application/vnd.jupyter.widget-view+json": {
       "model_id": "2d58d5dd791e44d9b1193ff8e609cfd7",
       "version_major": 2,
       "version_minor": 0
      },
      "text/plain": [
       "(…)-00002-of-00150-13e8281dc50c6153.parquet:   0%|          | 0.00/240M [00:00<?, ?B/s]"
      ]
     },
     "metadata": {},
     "output_type": "display_data"
    },
    {
     "data": {
      "application/vnd.jupyter.widget-view+json": {
       "model_id": "414a93d6cd734d3887351d6cb12721e1",
       "version_major": 2,
       "version_minor": 0
      },
      "text/plain": [
       "(…)-00003-of-00150-5dc6f51660ab954e.parquet:   0%|          | 0.00/240M [00:00<?, ?B/s]"
      ]
     },
     "metadata": {},
     "output_type": "display_data"
    },
    {
     "data": {
      "application/vnd.jupyter.widget-view+json": {
       "model_id": "b58467fa23bd4e50b75c99a25a8a26dd",
       "version_major": 2,
       "version_minor": 0
      },
      "text/plain": [
       "(…)-00004-of-00150-3de5c1278ed07a34.parquet:   0%|          | 0.00/218M [00:00<?, ?B/s]"
      ]
     },
     "metadata": {},
     "output_type": "display_data"
    },
    {
     "data": {
      "application/vnd.jupyter.widget-view+json": {
       "model_id": "cc9edafa61714aebb15bb3403d280801",
       "version_major": 2,
       "version_minor": 0
      },
      "text/plain": [
       "(…)-00005-of-00150-5f4e068c82d5bc66.parquet:   0%|          | 0.00/252M [00:00<?, ?B/s]"
      ]
     },
     "metadata": {},
     "output_type": "display_data"
    },
    {
     "data": {
      "application/vnd.jupyter.widget-view+json": {
       "model_id": "8639f5cad8094ff7ab4e548dea6b9a4e",
       "version_major": 2,
       "version_minor": 0
      },
      "text/plain": [
       "(…)-00006-of-00150-9f6c15505da095f9.parquet:   0%|          | 0.00/248M [00:00<?, ?B/s]"
      ]
     },
     "metadata": {},
     "output_type": "display_data"
    },
    {
     "data": {
      "application/vnd.jupyter.widget-view+json": {
       "model_id": "cf21c00b22f24fe79079ab7023631875",
       "version_major": 2,
       "version_minor": 0
      },
      "text/plain": [
       "(…)-00007-of-00150-2dfd4cfbc333df91.parquet:   0%|          | 0.00/253M [00:00<?, ?B/s]"
      ]
     },
     "metadata": {},
     "output_type": "display_data"
    },
    {
     "data": {
      "application/vnd.jupyter.widget-view+json": {
       "model_id": "0f193902efa94939b94c6d239bc98588",
       "version_major": 2,
       "version_minor": 0
      },
      "text/plain": [
       "(…)-00008-of-00150-b21927f1db72d006.parquet:   0%|          | 0.00/240M [00:00<?, ?B/s]"
      ]
     },
     "metadata": {},
     "output_type": "display_data"
    },
    {
     "data": {
      "application/vnd.jupyter.widget-view+json": {
       "model_id": "a6fdc7d4c91b4464bfc26cd5ea40a969",
       "version_major": 2,
       "version_minor": 0
      },
      "text/plain": [
       "(…)-00009-of-00150-66945148bbf84e8d.parquet:   0%|          | 0.00/256M [00:00<?, ?B/s]"
      ]
     },
     "metadata": {},
     "output_type": "display_data"
    },
    {
     "data": {
      "application/vnd.jupyter.widget-view+json": {
       "model_id": "2bdb6c1804434bfdb94c507e47632f8c",
       "version_major": 2,
       "version_minor": 0
      },
      "text/plain": [
       "(…)-00010-of-00150-92fdef7f6eac4cbd.parquet:   0%|          | 0.00/253M [00:00<?, ?B/s]"
      ]
     },
     "metadata": {},
     "output_type": "display_data"
    },
    {
     "data": {
      "application/vnd.jupyter.widget-view+json": {
       "model_id": "38436b48a1cd45e990bb6b09d720d8ac",
       "version_major": 2,
       "version_minor": 0
      },
      "text/plain": [
       "(…)-00011-of-00150-41c74618f2d05941.parquet:   0%|          | 0.00/248M [00:00<?, ?B/s]"
      ]
     },
     "metadata": {},
     "output_type": "display_data"
    },
    {
     "data": {
      "application/vnd.jupyter.widget-view+json": {
       "model_id": "73d491e69da841fe8273f13200c07155",
       "version_major": 2,
       "version_minor": 0
      },
      "text/plain": [
       "(…)-00012-of-00150-ee626574692207b4.parquet:   0%|          | 0.00/250M [00:00<?, ?B/s]"
      ]
     },
     "metadata": {},
     "output_type": "display_data"
    },
    {
     "data": {
      "application/vnd.jupyter.widget-view+json": {
       "model_id": "58f29e16d1c64d0da3330ab34baf2b35",
       "version_major": 2,
       "version_minor": 0
      },
      "text/plain": [
       "(…)-00013-of-00150-af5926c7b6cc19ac.parquet:   0%|          | 0.00/238M [00:00<?, ?B/s]"
      ]
     },
     "metadata": {},
     "output_type": "display_data"
    },
    {
     "data": {
      "application/vnd.jupyter.widget-view+json": {
       "model_id": "3cbd2e31ba7140bfb1591b9c6b1622e5",
       "version_major": 2,
       "version_minor": 0
      },
      "text/plain": [
       "(…)-00014-of-00150-6fbb7b1feca509e5.parquet:   0%|          | 0.00/244M [00:00<?, ?B/s]"
      ]
     },
     "metadata": {},
     "output_type": "display_data"
    },
    {
     "data": {
      "application/vnd.jupyter.widget-view+json": {
       "model_id": "a7c84dd03c0743289d399ba3a7c7c483",
       "version_major": 2,
       "version_minor": 0
      },
      "text/plain": [
       "(…)-00015-of-00150-051c6c85bcceb08f.parquet:   0%|          | 0.00/234M [00:00<?, ?B/s]"
      ]
     },
     "metadata": {},
     "output_type": "display_data"
    },
    {
     "data": {
      "application/vnd.jupyter.widget-view+json": {
       "model_id": "a731830145f84142a875c09ebfa9a510",
       "version_major": 2,
       "version_minor": 0
      },
      "text/plain": [
       "(…)-00016-of-00150-ea87e91e9f6747d6.parquet:   0%|          | 0.00/238M [00:00<?, ?B/s]"
      ]
     },
     "metadata": {},
     "output_type": "display_data"
    },
    {
     "data": {
      "application/vnd.jupyter.widget-view+json": {
       "model_id": "8518f9766f1644f39741e4f0db193c97",
       "version_major": 2,
       "version_minor": 0
      },
      "text/plain": [
       "(…)-00017-of-00150-98601df58afd0932.parquet:   0%|          | 0.00/244M [00:00<?, ?B/s]"
      ]
     },
     "metadata": {},
     "output_type": "display_data"
    },
    {
     "data": {
      "application/vnd.jupyter.widget-view+json": {
       "model_id": "b0ec3f34d4a8447e9631241c98944ee7",
       "version_major": 2,
       "version_minor": 0
      },
      "text/plain": [
       "(…)-00018-of-00150-e19b61fbcc00e723.parquet:   0%|          | 0.00/240M [00:00<?, ?B/s]"
      ]
     },
     "metadata": {},
     "output_type": "display_data"
    },
    {
     "data": {
      "application/vnd.jupyter.widget-view+json": {
       "model_id": "1c65c3b560a04c8e82c266996b62a0f3",
       "version_major": 2,
       "version_minor": 0
      },
      "text/plain": [
       "(…)-00019-of-00150-ff9a7733acd863b6.parquet:   0%|          | 0.00/242M [00:00<?, ?B/s]"
      ]
     },
     "metadata": {},
     "output_type": "display_data"
    },
    {
     "data": {
      "application/vnd.jupyter.widget-view+json": {
       "model_id": "b5b48d0dd8f24f9da8a59c6adf29dacc",
       "version_major": 2,
       "version_minor": 0
      },
      "text/plain": [
       "(…)-00020-of-00150-f67272bd3f651919.parquet:   0%|          | 0.00/240M [00:00<?, ?B/s]"
      ]
     },
     "metadata": {},
     "output_type": "display_data"
    },
    {
     "data": {
      "application/vnd.jupyter.widget-view+json": {
       "model_id": "8423b424754b498cb3a81b53ecb78268",
       "version_major": 2,
       "version_minor": 0
      },
      "text/plain": [
       "(…)-00021-of-00150-85037d5bdbf4e2f1.parquet:   0%|          | 0.00/242M [00:00<?, ?B/s]"
      ]
     },
     "metadata": {},
     "output_type": "display_data"
    },
    {
     "data": {
      "application/vnd.jupyter.widget-view+json": {
       "model_id": "d13c05beab7542abb9b402cb3bd3f51b",
       "version_major": 2,
       "version_minor": 0
      },
      "text/plain": [
       "(…)-00022-of-00150-4303be8e7e3e1362.parquet:   0%|          | 0.00/234M [00:00<?, ?B/s]"
      ]
     },
     "metadata": {},
     "output_type": "display_data"
    },
    {
     "data": {
      "application/vnd.jupyter.widget-view+json": {
       "model_id": "4a688de9614b4fcea1d98cdc52f08aeb",
       "version_major": 2,
       "version_minor": 0
      },
      "text/plain": [
       "(…)-00023-of-00150-0c4c133226f35ef1.parquet:   0%|          | 0.00/216M [00:00<?, ?B/s]"
      ]
     },
     "metadata": {},
     "output_type": "display_data"
    },
    {
     "data": {
      "application/vnd.jupyter.widget-view+json": {
       "model_id": "162a3fd26ea24301ae5ac563e9d29b69",
       "version_major": 2,
       "version_minor": 0
      },
      "text/plain": [
       "(…)-00024-of-00150-64d9c68659609cba.parquet:   0%|          | 0.00/216M [00:00<?, ?B/s]"
      ]
     },
     "metadata": {},
     "output_type": "display_data"
    },
    {
     "data": {
      "application/vnd.jupyter.widget-view+json": {
       "model_id": "e7bf0562af5842dd85257a93a83b750c",
       "version_major": 2,
       "version_minor": 0
      },
      "text/plain": [
       "(…)-00025-of-00150-7db519b455c7e408.parquet:   0%|          | 0.00/228M [00:00<?, ?B/s]"
      ]
     },
     "metadata": {},
     "output_type": "display_data"
    },
    {
     "data": {
      "application/vnd.jupyter.widget-view+json": {
       "model_id": "62cdd61b7a3d4ee3883a7272fd0a4338",
       "version_major": 2,
       "version_minor": 0
      },
      "text/plain": [
       "(…)-00026-of-00150-c1aa1d966f2050a6.parquet:   0%|          | 0.00/225M [00:00<?, ?B/s]"
      ]
     },
     "metadata": {},
     "output_type": "display_data"
    },
    {
     "data": {
      "application/vnd.jupyter.widget-view+json": {
       "model_id": "65a7f08f16ce4d659e5f4ba3c0f586ae",
       "version_major": 2,
       "version_minor": 0
      },
      "text/plain": [
       "(…)-00027-of-00150-d8a78889ddc0d1b1.parquet:   0%|          | 0.00/234M [00:00<?, ?B/s]"
      ]
     },
     "metadata": {},
     "output_type": "display_data"
    },
    {
     "data": {
      "application/vnd.jupyter.widget-view+json": {
       "model_id": "e0dfb7277f1f4bfeaa92c627edbee64f",
       "version_major": 2,
       "version_minor": 0
      },
      "text/plain": [
       "(…)-00028-of-00150-a98aaf4f195bcd5e.parquet:   0%|          | 0.00/251M [00:00<?, ?B/s]"
      ]
     },
     "metadata": {},
     "output_type": "display_data"
    },
    {
     "data": {
      "application/vnd.jupyter.widget-view+json": {
       "model_id": "1a8dde74317f44358c13b61c5c1a1059",
       "version_major": 2,
       "version_minor": 0
      },
      "text/plain": [
       "(…)-00029-of-00150-aade2dc89944cb8a.parquet:   0%|          | 0.00/237M [00:00<?, ?B/s]"
      ]
     },
     "metadata": {},
     "output_type": "display_data"
    },
    {
     "data": {
      "application/vnd.jupyter.widget-view+json": {
       "model_id": "52ea2e7c4f9e4ecaa37a4fe699f17b3f",
       "version_major": 2,
       "version_minor": 0
      },
      "text/plain": [
       "(…)-00030-of-00150-106953e704d6228f.parquet:   0%|          | 0.00/229M [00:00<?, ?B/s]"
      ]
     },
     "metadata": {},
     "output_type": "display_data"
    },
    {
     "data": {
      "application/vnd.jupyter.widget-view+json": {
       "model_id": "1e0eb451e30a48bcab3b05eb99308645",
       "version_major": 2,
       "version_minor": 0
      },
      "text/plain": [
       "(…)-00031-of-00150-e45180fecd32547a.parquet:   0%|          | 0.00/238M [00:00<?, ?B/s]"
      ]
     },
     "metadata": {},
     "output_type": "display_data"
    },
    {
     "data": {
      "application/vnd.jupyter.widget-view+json": {
       "model_id": "3ad5f251d10f4119b3f8c483cbd6b8f7",
       "version_major": 2,
       "version_minor": 0
      },
      "text/plain": [
       "(…)-00032-of-00150-834582e832e1f68f.parquet:   0%|          | 0.00/225M [00:00<?, ?B/s]"
      ]
     },
     "metadata": {},
     "output_type": "display_data"
    },
    {
     "data": {
      "application/vnd.jupyter.widget-view+json": {
       "model_id": "da8bb77551d5422b8cb6dfb057a1f6d6",
       "version_major": 2,
       "version_minor": 0
      },
      "text/plain": [
       "(…)-00033-of-00150-1adf68d65773ec3a.parquet:   0%|          | 0.00/229M [00:00<?, ?B/s]"
      ]
     },
     "metadata": {},
     "output_type": "display_data"
    },
    {
     "data": {
      "application/vnd.jupyter.widget-view+json": {
       "model_id": "9813f81baa324f0ab2c1b92d68cc2cb8",
       "version_major": 2,
       "version_minor": 0
      },
      "text/plain": [
       "(…)-00034-of-00150-c2bbfe1d345c7590.parquet:   0%|          | 0.00/224M [00:00<?, ?B/s]"
      ]
     },
     "metadata": {},
     "output_type": "display_data"
    },
    {
     "data": {
      "application/vnd.jupyter.widget-view+json": {
       "model_id": "a35dee15652743418fc6955557455aea",
       "version_major": 2,
       "version_minor": 0
      },
      "text/plain": [
       "(…)-00035-of-00150-c02387d666e0a33b.parquet:   0%|          | 0.00/224M [00:00<?, ?B/s]"
      ]
     },
     "metadata": {},
     "output_type": "display_data"
    },
    {
     "data": {
      "application/vnd.jupyter.widget-view+json": {
       "model_id": "b562d39665f443ce88ca84c9a7849b01",
       "version_major": 2,
       "version_minor": 0
      },
      "text/plain": [
       "(…)-00036-of-00150-3d1ba44259e89708.parquet:   0%|          | 0.00/232M [00:00<?, ?B/s]"
      ]
     },
     "metadata": {},
     "output_type": "display_data"
    },
    {
     "data": {
      "application/vnd.jupyter.widget-view+json": {
       "model_id": "fd5583c46d8046e9b5ee3813809bd497",
       "version_major": 2,
       "version_minor": 0
      },
      "text/plain": [
       "(…)-00037-of-00150-2e605fc230333ecc.parquet:   0%|          | 0.00/225M [00:00<?, ?B/s]"
      ]
     },
     "metadata": {},
     "output_type": "display_data"
    },
    {
     "data": {
      "application/vnd.jupyter.widget-view+json": {
       "model_id": "a38f5ab3d66646f2a1ff9756e950bd3f",
       "version_major": 2,
       "version_minor": 0
      },
      "text/plain": [
       "(…)-00038-of-00150-f92c4797552123b3.parquet:   0%|          | 0.00/227M [00:00<?, ?B/s]"
      ]
     },
     "metadata": {},
     "output_type": "display_data"
    },
    {
     "data": {
      "application/vnd.jupyter.widget-view+json": {
       "model_id": "6ed773f4c0b24b59a442318bbfb16704",
       "version_major": 2,
       "version_minor": 0
      },
      "text/plain": [
       "(…)-00039-of-00150-4f7287ceb9fc5e71.parquet:   0%|          | 0.00/233M [00:00<?, ?B/s]"
      ]
     },
     "metadata": {},
     "output_type": "display_data"
    },
    {
     "data": {
      "application/vnd.jupyter.widget-view+json": {
       "model_id": "7ad315cbb96244b4bee469169ea1876a",
       "version_major": 2,
       "version_minor": 0
      },
      "text/plain": [
       "(…)-00040-of-00150-126a2bf76ad6670a.parquet:   0%|          | 0.00/227M [00:00<?, ?B/s]"
      ]
     },
     "metadata": {},
     "output_type": "display_data"
    },
    {
     "data": {
      "application/vnd.jupyter.widget-view+json": {
       "model_id": "ad1b3cbc61cb45bda27f1fdb086f6fe8",
       "version_major": 2,
       "version_minor": 0
      },
      "text/plain": [
       "(…)-00041-of-00150-d16eae6eaeccedc9.parquet:   0%|          | 0.00/226M [00:00<?, ?B/s]"
      ]
     },
     "metadata": {},
     "output_type": "display_data"
    },
    {
     "data": {
      "application/vnd.jupyter.widget-view+json": {
       "model_id": "a4c7b72c78d64f149db08316bd877efe",
       "version_major": 2,
       "version_minor": 0
      },
      "text/plain": [
       "(…)-00042-of-00150-254cc3a055ec19d6.parquet:   0%|          | 0.00/233M [00:00<?, ?B/s]"
      ]
     },
     "metadata": {},
     "output_type": "display_data"
    },
    {
     "data": {
      "application/vnd.jupyter.widget-view+json": {
       "model_id": "f3f390ac1b2547d49614a1d5ffb34179",
       "version_major": 2,
       "version_minor": 0
      },
      "text/plain": [
       "(…)-00043-of-00150-1a0dfad181fa8ee1.parquet:   0%|          | 0.00/218M [00:00<?, ?B/s]"
      ]
     },
     "metadata": {},
     "output_type": "display_data"
    },
    {
     "data": {
      "application/vnd.jupyter.widget-view+json": {
       "model_id": "b82b0ef3636d4e41a6143cf4368ab3ad",
       "version_major": 2,
       "version_minor": 0
      },
      "text/plain": [
       "(…)-00044-of-00150-a03ad214ef67deda.parquet:   0%|          | 0.00/231M [00:00<?, ?B/s]"
      ]
     },
     "metadata": {},
     "output_type": "display_data"
    },
    {
     "data": {
      "application/vnd.jupyter.widget-view+json": {
       "model_id": "0a43fbfe803141d189dba16e8334aa16",
       "version_major": 2,
       "version_minor": 0
      },
      "text/plain": [
       "(…)-00045-of-00150-7c8efbbf4b4efff0.parquet:   0%|          | 0.00/214M [00:00<?, ?B/s]"
      ]
     },
     "metadata": {},
     "output_type": "display_data"
    },
    {
     "data": {
      "application/vnd.jupyter.widget-view+json": {
       "model_id": "c4d4b3473e914efba8f1190218620040",
       "version_major": 2,
       "version_minor": 0
      },
      "text/plain": [
       "(…)-00046-of-00150-a8428567fdd43c76.parquet:   0%|          | 0.00/230M [00:00<?, ?B/s]"
      ]
     },
     "metadata": {},
     "output_type": "display_data"
    },
    {
     "data": {
      "application/vnd.jupyter.widget-view+json": {
       "model_id": "64ca6eb280e047e28919a0afe194a0d2",
       "version_major": 2,
       "version_minor": 0
      },
      "text/plain": [
       "(…)-00047-of-00150-f72685265e0e315b.parquet:   0%|          | 0.00/218M [00:00<?, ?B/s]"
      ]
     },
     "metadata": {},
     "output_type": "display_data"
    },
    {
     "data": {
      "application/vnd.jupyter.widget-view+json": {
       "model_id": "8f795e15c1324ad3b6e9e66aca805f9e",
       "version_major": 2,
       "version_minor": 0
      },
      "text/plain": [
       "(…)-00048-of-00150-306420b378d48559.parquet:   0%|          | 0.00/228M [00:00<?, ?B/s]"
      ]
     },
     "metadata": {},
     "output_type": "display_data"
    },
    {
     "data": {
      "application/vnd.jupyter.widget-view+json": {
       "model_id": "7cf5dc39103144de868ae6e1d2478a25",
       "version_major": 2,
       "version_minor": 0
      },
      "text/plain": [
       "(…)-00049-of-00150-f6f26ee4d8241861.parquet:   0%|          | 0.00/233M [00:00<?, ?B/s]"
      ]
     },
     "metadata": {},
     "output_type": "display_data"
    },
    {
     "data": {
      "application/vnd.jupyter.widget-view+json": {
       "model_id": "b7687e4616f144699919733f6ca76d37",
       "version_major": 2,
       "version_minor": 0
      },
      "text/plain": [
       "(…)-00050-of-00150-27aa387450347bd3.parquet:   0%|          | 0.00/219M [00:00<?, ?B/s]"
      ]
     },
     "metadata": {},
     "output_type": "display_data"
    },
    {
     "data": {
      "application/vnd.jupyter.widget-view+json": {
       "model_id": "fd1d975e31e74c9d8374c7b5c4095c94",
       "version_major": 2,
       "version_minor": 0
      },
      "text/plain": [
       "(…)-00051-of-00150-592b4dcedda88ac9.parquet:   0%|          | 0.00/224M [00:00<?, ?B/s]"
      ]
     },
     "metadata": {},
     "output_type": "display_data"
    },
    {
     "data": {
      "application/vnd.jupyter.widget-view+json": {
       "model_id": "4c914cb91e934ef8833b51aefb731f61",
       "version_major": 2,
       "version_minor": 0
      },
      "text/plain": [
       "(…)-00052-of-00150-ce8ec9fcdfdf452b.parquet:   0%|          | 0.00/234M [00:00<?, ?B/s]"
      ]
     },
     "metadata": {},
     "output_type": "display_data"
    },
    {
     "data": {
      "application/vnd.jupyter.widget-view+json": {
       "model_id": "f20c29f7322a43cab60250bf5fa78f7b",
       "version_major": 2,
       "version_minor": 0
      },
      "text/plain": [
       "(…)-00053-of-00150-f2b63448d90ec923.parquet:   0%|          | 0.00/226M [00:00<?, ?B/s]"
      ]
     },
     "metadata": {},
     "output_type": "display_data"
    },
    {
     "data": {
      "application/vnd.jupyter.widget-view+json": {
       "model_id": "10afda2924b746bfbbab27b02149b181",
       "version_major": 2,
       "version_minor": 0
      },
      "text/plain": [
       "(…)-00054-of-00150-78df9e23d2627524.parquet:   0%|          | 0.00/211M [00:00<?, ?B/s]"
      ]
     },
     "metadata": {},
     "output_type": "display_data"
    },
    {
     "data": {
      "application/vnd.jupyter.widget-view+json": {
       "model_id": "b2db3292b3e74cb2a8e1ce613f683ba8",
       "version_major": 2,
       "version_minor": 0
      },
      "text/plain": [
       "(…)-00055-of-00150-67846a5624c2abe0.parquet:   0%|          | 0.00/215M [00:00<?, ?B/s]"
      ]
     },
     "metadata": {},
     "output_type": "display_data"
    },
    {
     "data": {
      "application/vnd.jupyter.widget-view+json": {
       "model_id": "45ccc611f4b94a508d361ec8f82cc6ce",
       "version_major": 2,
       "version_minor": 0
      },
      "text/plain": [
       "(…)-00056-of-00150-6644356d84cec421.parquet:   0%|          | 0.00/223M [00:00<?, ?B/s]"
      ]
     },
     "metadata": {},
     "output_type": "display_data"
    },
    {
     "data": {
      "application/vnd.jupyter.widget-view+json": {
       "model_id": "bd0ce3d6973d4f20ab3f29f9b5045045",
       "version_major": 2,
       "version_minor": 0
      },
      "text/plain": [
       "(…)-00057-of-00150-a62e6c15c012915f.parquet:   0%|          | 0.00/219M [00:00<?, ?B/s]"
      ]
     },
     "metadata": {},
     "output_type": "display_data"
    },
    {
     "data": {
      "application/vnd.jupyter.widget-view+json": {
       "model_id": "41f57ddc2a814cd887d3a437fa420b9b",
       "version_major": 2,
       "version_minor": 0
      },
      "text/plain": [
       "(…)-00058-of-00150-055ec6ff3c681364.parquet:   0%|          | 0.00/217M [00:00<?, ?B/s]"
      ]
     },
     "metadata": {},
     "output_type": "display_data"
    },
    {
     "data": {
      "application/vnd.jupyter.widget-view+json": {
       "model_id": "e6414997e2aa4775a2d15548fc30e36d",
       "version_major": 2,
       "version_minor": 0
      },
      "text/plain": [
       "(…)-00059-of-00150-6e352a611af08f67.parquet:   0%|          | 0.00/212M [00:00<?, ?B/s]"
      ]
     },
     "metadata": {},
     "output_type": "display_data"
    },
    {
     "data": {
      "application/vnd.jupyter.widget-view+json": {
       "model_id": "af7b384eae9a4ee99fd2eec63782253d",
       "version_major": 2,
       "version_minor": 0
      },
      "text/plain": [
       "(…)-00060-of-00150-83900115bb3ffc5c.parquet:   0%|          | 0.00/212M [00:00<?, ?B/s]"
      ]
     },
     "metadata": {},
     "output_type": "display_data"
    },
    {
     "data": {
      "application/vnd.jupyter.widget-view+json": {
       "model_id": "d59570cd418145278226c6915d406e56",
       "version_major": 2,
       "version_minor": 0
      },
      "text/plain": [
       "(…)-00061-of-00150-5551e5ab72740c9e.parquet:   0%|          | 0.00/211M [00:00<?, ?B/s]"
      ]
     },
     "metadata": {},
     "output_type": "display_data"
    },
    {
     "data": {
      "application/vnd.jupyter.widget-view+json": {
       "model_id": "3543359f4b0f4d0cac558e33b6e4043c",
       "version_major": 2,
       "version_minor": 0
      },
      "text/plain": [
       "(…)-00062-of-00150-27ac54c9772b7219.parquet:   0%|          | 0.00/204M [00:00<?, ?B/s]"
      ]
     },
     "metadata": {},
     "output_type": "display_data"
    },
    {
     "data": {
      "application/vnd.jupyter.widget-view+json": {
       "model_id": "33d2d1f68e4041779b93bdf98a77a988",
       "version_major": 2,
       "version_minor": 0
      },
      "text/plain": [
       "(…)-00063-of-00150-5bc7eb5b002e6802.parquet:   0%|          | 0.00/210M [00:00<?, ?B/s]"
      ]
     },
     "metadata": {},
     "output_type": "display_data"
    },
    {
     "data": {
      "application/vnd.jupyter.widget-view+json": {
       "model_id": "7c1ac0a799d740288fc8ad41b9a0b847",
       "version_major": 2,
       "version_minor": 0
      },
      "text/plain": [
       "(…)-00064-of-00150-f0951d1266ad23bc.parquet:   0%|          | 0.00/215M [00:00<?, ?B/s]"
      ]
     },
     "metadata": {},
     "output_type": "display_data"
    },
    {
     "data": {
      "application/vnd.jupyter.widget-view+json": {
       "model_id": "92787305f9dd47868567cde17858aef6",
       "version_major": 2,
       "version_minor": 0
      },
      "text/plain": [
       "(…)-00065-of-00150-2cddce11fc95b9cd.parquet:   0%|          | 0.00/217M [00:00<?, ?B/s]"
      ]
     },
     "metadata": {},
     "output_type": "display_data"
    },
    {
     "data": {
      "application/vnd.jupyter.widget-view+json": {
       "model_id": "96207b505326447cb33d5a0a1df512a6",
       "version_major": 2,
       "version_minor": 0
      },
      "text/plain": [
       "(…)-00066-of-00150-70e8bbf879f6e574.parquet:   0%|          | 0.00/225M [00:00<?, ?B/s]"
      ]
     },
     "metadata": {},
     "output_type": "display_data"
    },
    {
     "data": {
      "application/vnd.jupyter.widget-view+json": {
       "model_id": "da22ef0ef0794ef48ea5c745ca353fc0",
       "version_major": 2,
       "version_minor": 0
      },
      "text/plain": [
       "(…)-00067-of-00150-d6124fb7b4ce227c.parquet:   0%|          | 0.00/221M [00:00<?, ?B/s]"
      ]
     },
     "metadata": {},
     "output_type": "display_data"
    },
    {
     "data": {
      "application/vnd.jupyter.widget-view+json": {
       "model_id": "5605623b31384fd6a328a3459a24e942",
       "version_major": 2,
       "version_minor": 0
      },
      "text/plain": [
       "(…)-00068-of-00150-88aff8d379979be3.parquet:   0%|          | 0.00/227M [00:00<?, ?B/s]"
      ]
     },
     "metadata": {},
     "output_type": "display_data"
    },
    {
     "data": {
      "application/vnd.jupyter.widget-view+json": {
       "model_id": "b4f0ff8b6f8a42bda8daecaac4570a05",
       "version_major": 2,
       "version_minor": 0
      },
      "text/plain": [
       "(…)-00069-of-00150-ae594ddb7db6bff9.parquet:   0%|          | 0.00/220M [00:00<?, ?B/s]"
      ]
     },
     "metadata": {},
     "output_type": "display_data"
    },
    {
     "data": {
      "application/vnd.jupyter.widget-view+json": {
       "model_id": "484e9dc7ae954725ad10ebc8b30dcda6",
       "version_major": 2,
       "version_minor": 0
      },
      "text/plain": [
       "(…)-00070-of-00150-316feb1713e48d5c.parquet:   0%|          | 0.00/231M [00:00<?, ?B/s]"
      ]
     },
     "metadata": {},
     "output_type": "display_data"
    },
    {
     "data": {
      "application/vnd.jupyter.widget-view+json": {
       "model_id": "80f99ef3dff345b08bd5aeae06f273ce",
       "version_major": 2,
       "version_minor": 0
      },
      "text/plain": [
       "(…)-00071-of-00150-2d5ece5fb2e3cf57.parquet:   0%|          | 0.00/237M [00:00<?, ?B/s]"
      ]
     },
     "metadata": {},
     "output_type": "display_data"
    },
    {
     "data": {
      "application/vnd.jupyter.widget-view+json": {
       "model_id": "7a40796d69104f79969055f5b1b170c2",
       "version_major": 2,
       "version_minor": 0
      },
      "text/plain": [
       "(…)-00072-of-00150-e06af3d48a25ca69.parquet:   0%|          | 0.00/237M [00:00<?, ?B/s]"
      ]
     },
     "metadata": {},
     "output_type": "display_data"
    },
    {
     "data": {
      "application/vnd.jupyter.widget-view+json": {
       "model_id": "0c93ba1e37fa4ba4a96cafa75fc48779",
       "version_major": 2,
       "version_minor": 0
      },
      "text/plain": [
       "(…)-00073-of-00150-3f3de7806b2ad4dd.parquet:   0%|          | 0.00/247M [00:00<?, ?B/s]"
      ]
     },
     "metadata": {},
     "output_type": "display_data"
    },
    {
     "data": {
      "application/vnd.jupyter.widget-view+json": {
       "model_id": "73d3743edc8046d8b2db1d5b5e4e0ae2",
       "version_major": 2,
       "version_minor": 0
      },
      "text/plain": [
       "(…)-00074-of-00150-d9ae04ff6b7f090b.parquet:   0%|          | 0.00/271M [00:00<?, ?B/s]"
      ]
     },
     "metadata": {},
     "output_type": "display_data"
    },
    {
     "data": {
      "application/vnd.jupyter.widget-view+json": {
       "model_id": "92ea3dd5f4994b6ba641d15b916977c4",
       "version_major": 2,
       "version_minor": 0
      },
      "text/plain": [
       "(…)-00075-of-00150-df7320705bcff366.parquet:   0%|          | 0.00/256M [00:00<?, ?B/s]"
      ]
     },
     "metadata": {},
     "output_type": "display_data"
    },
    {
     "data": {
      "application/vnd.jupyter.widget-view+json": {
       "model_id": "faca596fb8134d2eb27b106427c66254",
       "version_major": 2,
       "version_minor": 0
      },
      "text/plain": [
       "(…)-00076-of-00150-b365efaaec368a8b.parquet:   0%|          | 0.00/261M [00:00<?, ?B/s]"
      ]
     },
     "metadata": {},
     "output_type": "display_data"
    },
    {
     "data": {
      "application/vnd.jupyter.widget-view+json": {
       "model_id": "b66a1505aeac4914b54d24be50e9997c",
       "version_major": 2,
       "version_minor": 0
      },
      "text/plain": [
       "(…)-00077-of-00150-dda7b4ed461a85e0.parquet:   0%|          | 0.00/252M [00:00<?, ?B/s]"
      ]
     },
     "metadata": {},
     "output_type": "display_data"
    },
    {
     "data": {
      "application/vnd.jupyter.widget-view+json": {
       "model_id": "fe92967baf7448dcb6718f578150d72d",
       "version_major": 2,
       "version_minor": 0
      },
      "text/plain": [
       "(…)-00078-of-00150-81ee3737470187c3.parquet:   0%|          | 0.00/264M [00:00<?, ?B/s]"
      ]
     },
     "metadata": {},
     "output_type": "display_data"
    },
    {
     "data": {
      "application/vnd.jupyter.widget-view+json": {
       "model_id": "1b3d5d2436124c86b0ac677051f5a3f8",
       "version_major": 2,
       "version_minor": 0
      },
      "text/plain": [
       "(…)-00079-of-00150-53b5ed73d5e6c343.parquet:   0%|          | 0.00/246M [00:00<?, ?B/s]"
      ]
     },
     "metadata": {},
     "output_type": "display_data"
    },
    {
     "data": {
      "application/vnd.jupyter.widget-view+json": {
       "model_id": "9653ee5bfe04466ba1e9f5510af8007b",
       "version_major": 2,
       "version_minor": 0
      },
      "text/plain": [
       "(…)-00080-of-00150-e1efdef03cf9eaba.parquet:   0%|          | 0.00/244M [00:00<?, ?B/s]"
      ]
     },
     "metadata": {},
     "output_type": "display_data"
    },
    {
     "data": {
      "application/vnd.jupyter.widget-view+json": {
       "model_id": "2b45bf964f214ecca39586508deb6a10",
       "version_major": 2,
       "version_minor": 0
      },
      "text/plain": [
       "(…)-00081-of-00150-c0df70208acc1991.parquet:   0%|          | 0.00/256M [00:00<?, ?B/s]"
      ]
     },
     "metadata": {},
     "output_type": "display_data"
    },
    {
     "data": {
      "application/vnd.jupyter.widget-view+json": {
       "model_id": "58428be9bb504e9a9cee3a532ce01ed8",
       "version_major": 2,
       "version_minor": 0
      },
      "text/plain": [
       "(…)-00082-of-00150-fcf538a3a0efc710.parquet:   0%|          | 0.00/251M [00:00<?, ?B/s]"
      ]
     },
     "metadata": {},
     "output_type": "display_data"
    },
    {
     "data": {
      "application/vnd.jupyter.widget-view+json": {
       "model_id": "17ca157ab4024c37a6c1c259a9548236",
       "version_major": 2,
       "version_minor": 0
      },
      "text/plain": [
       "(…)-00083-of-00150-fa0fd87a389a1173.parquet:   0%|          | 0.00/210M [00:00<?, ?B/s]"
      ]
     },
     "metadata": {},
     "output_type": "display_data"
    },
    {
     "data": {
      "application/vnd.jupyter.widget-view+json": {
       "model_id": "0fcf145ee6274100ab3d2261e488193f",
       "version_major": 2,
       "version_minor": 0
      },
      "text/plain": [
       "(…)-00084-of-00150-a9868074520f6dd0.parquet:   0%|          | 0.00/234M [00:00<?, ?B/s]"
      ]
     },
     "metadata": {},
     "output_type": "display_data"
    },
    {
     "data": {
      "application/vnd.jupyter.widget-view+json": {
       "model_id": "5ba3c13fd7dc4311aaae1ef277ee2606",
       "version_major": 2,
       "version_minor": 0
      },
      "text/plain": [
       "(…)-00085-of-00150-d94bc467809675b1.parquet:   0%|          | 0.00/244M [00:00<?, ?B/s]"
      ]
     },
     "metadata": {},
     "output_type": "display_data"
    },
    {
     "data": {
      "application/vnd.jupyter.widget-view+json": {
       "model_id": "1eeccc06422041ab822da870339de1a7",
       "version_major": 2,
       "version_minor": 0
      },
      "text/plain": [
       "(…)-00086-of-00150-187f7627c607ac80.parquet:   0%|          | 0.00/233M [00:00<?, ?B/s]"
      ]
     },
     "metadata": {},
     "output_type": "display_data"
    },
    {
     "data": {
      "application/vnd.jupyter.widget-view+json": {
       "model_id": "25eb15d8a219489ca3c8c0eb57398177",
       "version_major": 2,
       "version_minor": 0
      },
      "text/plain": [
       "(…)-00087-of-00150-538c58fb2f8ef9ae.parquet:   0%|          | 0.00/228M [00:00<?, ?B/s]"
      ]
     },
     "metadata": {},
     "output_type": "display_data"
    },
    {
     "data": {
      "application/vnd.jupyter.widget-view+json": {
       "model_id": "386cf87013a744cc88e835cec5703e1e",
       "version_major": 2,
       "version_minor": 0
      },
      "text/plain": [
       "(…)-00088-of-00150-3b87aff5cfcbd557.parquet:   0%|          | 0.00/235M [00:00<?, ?B/s]"
      ]
     },
     "metadata": {},
     "output_type": "display_data"
    },
    {
     "data": {
      "application/vnd.jupyter.widget-view+json": {
       "model_id": "4d6e29a16adb442aa84aab37c4455042",
       "version_major": 2,
       "version_minor": 0
      },
      "text/plain": [
       "(…)-00089-of-00150-e4d6972938c0b73e.parquet:   0%|          | 0.00/237M [00:00<?, ?B/s]"
      ]
     },
     "metadata": {},
     "output_type": "display_data"
    },
    {
     "data": {
      "application/vnd.jupyter.widget-view+json": {
       "model_id": "6bba3ea8ffa64016b02ab9cfb07d299f",
       "version_major": 2,
       "version_minor": 0
      },
      "text/plain": [
       "(…)-00090-of-00150-65f12c1068790e13.parquet:   0%|          | 0.00/214M [00:00<?, ?B/s]"
      ]
     },
     "metadata": {},
     "output_type": "display_data"
    },
    {
     "data": {
      "application/vnd.jupyter.widget-view+json": {
       "model_id": "394807a60bb24250b5b87307c7e6227a",
       "version_major": 2,
       "version_minor": 0
      },
      "text/plain": [
       "(…)-00091-of-00150-f9a3a7dda73eb444.parquet:   0%|          | 0.00/220M [00:00<?, ?B/s]"
      ]
     },
     "metadata": {},
     "output_type": "display_data"
    },
    {
     "data": {
      "application/vnd.jupyter.widget-view+json": {
       "model_id": "964343b00234415ead478b220c2003c5",
       "version_major": 2,
       "version_minor": 0
      },
      "text/plain": [
       "(…)-00092-of-00150-ce2ec989f36389ea.parquet:   0%|          | 0.00/216M [00:00<?, ?B/s]"
      ]
     },
     "metadata": {},
     "output_type": "display_data"
    },
    {
     "data": {
      "application/vnd.jupyter.widget-view+json": {
       "model_id": "faa8a6dfc91f450aba707e23f8109a73",
       "version_major": 2,
       "version_minor": 0
      },
      "text/plain": [
       "(…)-00093-of-00150-6d57f461532b99fa.parquet:   0%|          | 0.00/209M [00:00<?, ?B/s]"
      ]
     },
     "metadata": {},
     "output_type": "display_data"
    },
    {
     "data": {
      "application/vnd.jupyter.widget-view+json": {
       "model_id": "279433d57b6f48a7bed9a4ebcc3ac425",
       "version_major": 2,
       "version_minor": 0
      },
      "text/plain": [
       "(…)-00094-of-00150-4e6515a1c6f68839.parquet:   0%|          | 0.00/212M [00:00<?, ?B/s]"
      ]
     },
     "metadata": {},
     "output_type": "display_data"
    },
    {
     "data": {
      "application/vnd.jupyter.widget-view+json": {
       "model_id": "7cc4123795ae4b54879e47e5610d753f",
       "version_major": 2,
       "version_minor": 0
      },
      "text/plain": [
       "(…)-00095-of-00150-40545fe4c7471596.parquet:   0%|          | 0.00/210M [00:00<?, ?B/s]"
      ]
     },
     "metadata": {},
     "output_type": "display_data"
    },
    {
     "data": {
      "application/vnd.jupyter.widget-view+json": {
       "model_id": "e472ce198d77427a82513417a179f28e",
       "version_major": 2,
       "version_minor": 0
      },
      "text/plain": [
       "(…)-00096-of-00150-52e74a1e8719adcc.parquet:   0%|          | 0.00/209M [00:00<?, ?B/s]"
      ]
     },
     "metadata": {},
     "output_type": "display_data"
    },
    {
     "data": {
      "application/vnd.jupyter.widget-view+json": {
       "model_id": "4b7d8bc2ff9e400392cf4e0d54507945",
       "version_major": 2,
       "version_minor": 0
      },
      "text/plain": [
       "(…)-00097-of-00150-850496b225b462ad.parquet:   0%|          | 0.00/215M [00:00<?, ?B/s]"
      ]
     },
     "metadata": {},
     "output_type": "display_data"
    },
    {
     "data": {
      "application/vnd.jupyter.widget-view+json": {
       "model_id": "4544a0187b3b4fbf8e61249ce24ebfb3",
       "version_major": 2,
       "version_minor": 0
      },
      "text/plain": [
       "(…)-00098-of-00150-0ed2679ba89050f1.parquet:   0%|          | 0.00/209M [00:00<?, ?B/s]"
      ]
     },
     "metadata": {},
     "output_type": "display_data"
    },
    {
     "data": {
      "application/vnd.jupyter.widget-view+json": {
       "model_id": "c451456f797c4b6b9fcb29032b5b16e2",
       "version_major": 2,
       "version_minor": 0
      },
      "text/plain": [
       "(…)-00099-of-00150-9c44be518fe5a8ee.parquet:   0%|          | 0.00/210M [00:00<?, ?B/s]"
      ]
     },
     "metadata": {},
     "output_type": "display_data"
    },
    {
     "data": {
      "application/vnd.jupyter.widget-view+json": {
       "model_id": "48de5412200f4b0a98be725a476eda23",
       "version_major": 2,
       "version_minor": 0
      },
      "text/plain": [
       "(…)-00100-of-00150-e65a16a19912eb4b.parquet:   0%|          | 0.00/202M [00:00<?, ?B/s]"
      ]
     },
     "metadata": {},
     "output_type": "display_data"
    },
    {
     "data": {
      "application/vnd.jupyter.widget-view+json": {
       "model_id": "ffab7557a9e74a4393837b0ae330b29e",
       "version_major": 2,
       "version_minor": 0
      },
      "text/plain": [
       "(…)-00101-of-00150-afe360eef6563b6d.parquet:   0%|          | 0.00/213M [00:00<?, ?B/s]"
      ]
     },
     "metadata": {},
     "output_type": "display_data"
    },
    {
     "data": {
      "application/vnd.jupyter.widget-view+json": {
       "model_id": "0f03d0381f3a4155a399299c0e57f0d7",
       "version_major": 2,
       "version_minor": 0
      },
      "text/plain": [
       "(…)-00102-of-00150-8f6648bf3431fa29.parquet:   0%|          | 0.00/201M [00:00<?, ?B/s]"
      ]
     },
     "metadata": {},
     "output_type": "display_data"
    },
    {
     "data": {
      "application/vnd.jupyter.widget-view+json": {
       "model_id": "9081d1a5f3584d8aaec78fce14b14fce",
       "version_major": 2,
       "version_minor": 0
      },
      "text/plain": [
       "(…)-00103-of-00150-9709618b17853199.parquet:   0%|          | 0.00/201M [00:00<?, ?B/s]"
      ]
     },
     "metadata": {},
     "output_type": "display_data"
    },
    {
     "data": {
      "application/vnd.jupyter.widget-view+json": {
       "model_id": "02f44f1171a0443a89410dc27890c98d",
       "version_major": 2,
       "version_minor": 0
      },
      "text/plain": [
       "(…)-00104-of-00150-cab456935b34dba7.parquet:   0%|          | 0.00/209M [00:00<?, ?B/s]"
      ]
     },
     "metadata": {},
     "output_type": "display_data"
    },
    {
     "data": {
      "application/vnd.jupyter.widget-view+json": {
       "model_id": "37720297a64e433b8f5d730b36b73b7b",
       "version_major": 2,
       "version_minor": 0
      },
      "text/plain": [
       "(…)-00105-of-00150-fe5e47e3610e88f9.parquet:   0%|          | 0.00/210M [00:00<?, ?B/s]"
      ]
     },
     "metadata": {},
     "output_type": "display_data"
    },
    {
     "data": {
      "application/vnd.jupyter.widget-view+json": {
       "model_id": "2d3f1f9494824f32857f1435c474335d",
       "version_major": 2,
       "version_minor": 0
      },
      "text/plain": [
       "(…)-00106-of-00150-6750c5f64f26a318.parquet:   0%|          | 0.00/201M [00:00<?, ?B/s]"
      ]
     },
     "metadata": {},
     "output_type": "display_data"
    },
    {
     "data": {
      "application/vnd.jupyter.widget-view+json": {
       "model_id": "4e6cb0248d35472a976eb1a4679e70c9",
       "version_major": 2,
       "version_minor": 0
      },
      "text/plain": [
       "(…)-00107-of-00150-54f2c42d6d67e427.parquet:   0%|          | 0.00/208M [00:00<?, ?B/s]"
      ]
     },
     "metadata": {},
     "output_type": "display_data"
    },
    {
     "data": {
      "application/vnd.jupyter.widget-view+json": {
       "model_id": "9c5927ded3d74ac3a69f4691fe03bb20",
       "version_major": 2,
       "version_minor": 0
      },
      "text/plain": [
       "(…)-00108-of-00150-e3d051ffc67bf2e6.parquet:   0%|          | 0.00/201M [00:00<?, ?B/s]"
      ]
     },
     "metadata": {},
     "output_type": "display_data"
    },
    {
     "data": {
      "application/vnd.jupyter.widget-view+json": {
       "model_id": "9acf44d8b9ef43babc86e596fa4256fe",
       "version_major": 2,
       "version_minor": 0
      },
      "text/plain": [
       "(…)-00109-of-00150-25f90cf068dcdeb3.parquet:   0%|          | 0.00/204M [00:00<?, ?B/s]"
      ]
     },
     "metadata": {},
     "output_type": "display_data"
    },
    {
     "data": {
      "application/vnd.jupyter.widget-view+json": {
       "model_id": "b7a62bf43fe04f1dbc65499fe6d76e74",
       "version_major": 2,
       "version_minor": 0
      },
      "text/plain": [
       "(…)-00110-of-00150-4e8c21020e3c2b7b.parquet:   0%|          | 0.00/204M [00:00<?, ?B/s]"
      ]
     },
     "metadata": {},
     "output_type": "display_data"
    },
    {
     "data": {
      "application/vnd.jupyter.widget-view+json": {
       "model_id": "4794c79ef2134b79b094e8f645b5c2be",
       "version_major": 2,
       "version_minor": 0
      },
      "text/plain": [
       "(…)-00111-of-00150-3a12dd609243436a.parquet:   0%|          | 0.00/202M [00:00<?, ?B/s]"
      ]
     },
     "metadata": {},
     "output_type": "display_data"
    },
    {
     "data": {
      "application/vnd.jupyter.widget-view+json": {
       "model_id": "c944bae8f4cd43449c263581b9dd74f4",
       "version_major": 2,
       "version_minor": 0
      },
      "text/plain": [
       "(…)-00112-of-00150-368f0786927a5c0f.parquet:   0%|          | 0.00/180M [00:00<?, ?B/s]"
      ]
     },
     "metadata": {},
     "output_type": "display_data"
    },
    {
     "data": {
      "application/vnd.jupyter.widget-view+json": {
       "model_id": "fbd93dff01b84dd5954ee1d6c83d5e34",
       "version_major": 2,
       "version_minor": 0
      },
      "text/plain": [
       "(…)-00113-of-00150-e11280f5852be363.parquet:   0%|          | 0.00/180M [00:00<?, ?B/s]"
      ]
     },
     "metadata": {},
     "output_type": "display_data"
    },
    {
     "data": {
      "application/vnd.jupyter.widget-view+json": {
       "model_id": "936184e7abe141948655da4c2143c2c3",
       "version_major": 2,
       "version_minor": 0
      },
      "text/plain": [
       "(…)-00114-of-00150-434583e5690d1ab5.parquet:   0%|          | 0.00/188M [00:00<?, ?B/s]"
      ]
     },
     "metadata": {},
     "output_type": "display_data"
    },
    {
     "data": {
      "application/vnd.jupyter.widget-view+json": {
       "model_id": "ddb7eb199470464c892596fc4b866657",
       "version_major": 2,
       "version_minor": 0
      },
      "text/plain": [
       "(…)-00115-of-00150-88c88f39108646cf.parquet:   0%|          | 0.00/184M [00:00<?, ?B/s]"
      ]
     },
     "metadata": {},
     "output_type": "display_data"
    },
    {
     "data": {
      "application/vnd.jupyter.widget-view+json": {
       "model_id": "92d6deb2602b4a6eaa6d7244d46ae4c8",
       "version_major": 2,
       "version_minor": 0
      },
      "text/plain": [
       "(…)-00116-of-00150-e045a8eb0d67d7f4.parquet:   0%|          | 0.00/191M [00:00<?, ?B/s]"
      ]
     },
     "metadata": {},
     "output_type": "display_data"
    },
    {
     "data": {
      "application/vnd.jupyter.widget-view+json": {
       "model_id": "f9a9d2c5510b4675af07188babaf40d6",
       "version_major": 2,
       "version_minor": 0
      },
      "text/plain": [
       "(…)-00117-of-00150-b2ecd71064b2e688.parquet:   0%|          | 0.00/211M [00:00<?, ?B/s]"
      ]
     },
     "metadata": {},
     "output_type": "display_data"
    },
    {
     "data": {
      "application/vnd.jupyter.widget-view+json": {
       "model_id": "e572de609192459f92b4e180cbca7723",
       "version_major": 2,
       "version_minor": 0
      },
      "text/plain": [
       "(…)-00118-of-00150-092ca3ce2154c53d.parquet:   0%|          | 0.00/208M [00:00<?, ?B/s]"
      ]
     },
     "metadata": {},
     "output_type": "display_data"
    },
    {
     "data": {
      "application/vnd.jupyter.widget-view+json": {
       "model_id": "77a9b0c25b80499788a9802960cceeff",
       "version_major": 2,
       "version_minor": 0
      },
      "text/plain": [
       "(…)-00119-of-00150-a882237055ee6318.parquet:   0%|          | 0.00/202M [00:00<?, ?B/s]"
      ]
     },
     "metadata": {},
     "output_type": "display_data"
    },
    {
     "data": {
      "application/vnd.jupyter.widget-view+json": {
       "model_id": "23a2769e397c45f5a316554b40ec8554",
       "version_major": 2,
       "version_minor": 0
      },
      "text/plain": [
       "(…)-00120-of-00150-93bfb60c228ce328.parquet:   0%|          | 0.00/189M [00:00<?, ?B/s]"
      ]
     },
     "metadata": {},
     "output_type": "display_data"
    },
    {
     "data": {
      "application/vnd.jupyter.widget-view+json": {
       "model_id": "0aa025e71b76447c92e00a9fddfd63a5",
       "version_major": 2,
       "version_minor": 0
      },
      "text/plain": [
       "(…)-00121-of-00150-96b04354406b684f.parquet:   0%|          | 0.00/188M [00:00<?, ?B/s]"
      ]
     },
     "metadata": {},
     "output_type": "display_data"
    },
    {
     "data": {
      "application/vnd.jupyter.widget-view+json": {
       "model_id": "2193a467d9a747b98f16358fa4c9629d",
       "version_major": 2,
       "version_minor": 0
      },
      "text/plain": [
       "(…)-00122-of-00150-49a1143b3f3afbd2.parquet:   0%|          | 0.00/187M [00:00<?, ?B/s]"
      ]
     },
     "metadata": {},
     "output_type": "display_data"
    },
    {
     "data": {
      "application/vnd.jupyter.widget-view+json": {
       "model_id": "030ac25b555f46aa8e18f56f1f08e86d",
       "version_major": 2,
       "version_minor": 0
      },
      "text/plain": [
       "(…)-00123-of-00150-b0ea139bc4de0e3e.parquet:   0%|          | 0.00/230M [00:00<?, ?B/s]"
      ]
     },
     "metadata": {},
     "output_type": "display_data"
    },
    {
     "data": {
      "application/vnd.jupyter.widget-view+json": {
       "model_id": "51c23e17b55b4047ab53c0d63bad61ed",
       "version_major": 2,
       "version_minor": 0
      },
      "text/plain": [
       "(…)-00124-of-00150-4869e397587049eb.parquet:   0%|          | 0.00/229M [00:00<?, ?B/s]"
      ]
     },
     "metadata": {},
     "output_type": "display_data"
    },
    {
     "data": {
      "application/vnd.jupyter.widget-view+json": {
       "model_id": "f7c162b15eb94c948ceda09c9c301027",
       "version_major": 2,
       "version_minor": 0
      },
      "text/plain": [
       "(…)-00125-of-00150-73227fbf7d9d3566.parquet:   0%|          | 0.00/215M [00:00<?, ?B/s]"
      ]
     },
     "metadata": {},
     "output_type": "display_data"
    },
    {
     "data": {
      "application/vnd.jupyter.widget-view+json": {
       "model_id": "c701d888cb6848ff92bc908ee2309faa",
       "version_major": 2,
       "version_minor": 0
      },
      "text/plain": [
       "(…)-00126-of-00150-f750a700fed078ec.parquet:   0%|          | 0.00/217M [00:00<?, ?B/s]"
      ]
     },
     "metadata": {},
     "output_type": "display_data"
    },
    {
     "data": {
      "application/vnd.jupyter.widget-view+json": {
       "model_id": "8fdbeb74814143c1803b4e3eb5f7e281",
       "version_major": 2,
       "version_minor": 0
      },
      "text/plain": [
       "(…)-00127-of-00150-e8df953029fceb1f.parquet:   0%|          | 0.00/208M [00:00<?, ?B/s]"
      ]
     },
     "metadata": {},
     "output_type": "display_data"
    },
    {
     "data": {
      "application/vnd.jupyter.widget-view+json": {
       "model_id": "69441704c956458394cf38e4d82039e5",
       "version_major": 2,
       "version_minor": 0
      },
      "text/plain": [
       "(…)-00128-of-00150-ab6d0f3f70e933db.parquet:   0%|          | 0.00/227M [00:00<?, ?B/s]"
      ]
     },
     "metadata": {},
     "output_type": "display_data"
    },
    {
     "data": {
      "application/vnd.jupyter.widget-view+json": {
       "model_id": "5a6421ea912d495ea6159d2e2cdc38e5",
       "version_major": 2,
       "version_minor": 0
      },
      "text/plain": [
       "(…)-00129-of-00150-1b2d3a85596e086b.parquet:   0%|          | 0.00/229M [00:00<?, ?B/s]"
      ]
     },
     "metadata": {},
     "output_type": "display_data"
    },
    {
     "data": {
      "application/vnd.jupyter.widget-view+json": {
       "model_id": "d0b52f7ca68d40879181a8f3a71d7f76",
       "version_major": 2,
       "version_minor": 0
      },
      "text/plain": [
       "(…)-00130-of-00150-8d6fe10a6bfdccf4.parquet:   0%|          | 0.00/217M [00:00<?, ?B/s]"
      ]
     },
     "metadata": {},
     "output_type": "display_data"
    },
    {
     "data": {
      "application/vnd.jupyter.widget-view+json": {
       "model_id": "3b6320a13c2f4019a31d51f2e31edadf",
       "version_major": 2,
       "version_minor": 0
      },
      "text/plain": [
       "(…)-00131-of-00150-9cb7a654d5a493f9.parquet:   0%|          | 0.00/210M [00:00<?, ?B/s]"
      ]
     },
     "metadata": {},
     "output_type": "display_data"
    },
    {
     "data": {
      "application/vnd.jupyter.widget-view+json": {
       "model_id": "e4704f291b5f47d88a15dfecc3e39204",
       "version_major": 2,
       "version_minor": 0
      },
      "text/plain": [
       "(…)-00132-of-00150-7ce141d9502bb994.parquet:   0%|          | 0.00/204M [00:00<?, ?B/s]"
      ]
     },
     "metadata": {},
     "output_type": "display_data"
    },
    {
     "data": {
      "application/vnd.jupyter.widget-view+json": {
       "model_id": "b25bfebf8b1e42aea9e08d79653f6dc9",
       "version_major": 2,
       "version_minor": 0
      },
      "text/plain": [
       "(…)-00133-of-00150-fc6904cedb9231b9.parquet:   0%|          | 0.00/234M [00:00<?, ?B/s]"
      ]
     },
     "metadata": {},
     "output_type": "display_data"
    },
    {
     "data": {
      "application/vnd.jupyter.widget-view+json": {
       "model_id": "74164af6f62844a8ade73813d8d42c11",
       "version_major": 2,
       "version_minor": 0
      },
      "text/plain": [
       "(…)-00134-of-00150-b02d5d7b42a355b3.parquet:   0%|          | 0.00/244M [00:00<?, ?B/s]"
      ]
     },
     "metadata": {},
     "output_type": "display_data"
    },
    {
     "data": {
      "application/vnd.jupyter.widget-view+json": {
       "model_id": "93c26318106843beb01d4b425327faf9",
       "version_major": 2,
       "version_minor": 0
      },
      "text/plain": [
       "(…)-00135-of-00150-5185d1a9805c968e.parquet:   0%|          | 0.00/228M [00:00<?, ?B/s]"
      ]
     },
     "metadata": {},
     "output_type": "display_data"
    },
    {
     "data": {
      "application/vnd.jupyter.widget-view+json": {
       "model_id": "04cfce83638a4b3eaccf26340ba9ca71",
       "version_major": 2,
       "version_minor": 0
      },
      "text/plain": [
       "(…)-00136-of-00150-327dbbb558722f57.parquet:   0%|          | 0.00/219M [00:00<?, ?B/s]"
      ]
     },
     "metadata": {},
     "output_type": "display_data"
    },
    {
     "data": {
      "application/vnd.jupyter.widget-view+json": {
       "model_id": "dedd924d05a24b48b7900d122c6386aa",
       "version_major": 2,
       "version_minor": 0
      },
      "text/plain": [
       "(…)-00137-of-00150-cf55b055481e3956.parquet:   0%|          | 0.00/197M [00:00<?, ?B/s]"
      ]
     },
     "metadata": {},
     "output_type": "display_data"
    },
    {
     "data": {
      "application/vnd.jupyter.widget-view+json": {
       "model_id": "da5eef4c2c2a4c34bdbf5b66495eebd4",
       "version_major": 2,
       "version_minor": 0
      },
      "text/plain": [
       "(…)-00138-of-00150-3c941b9d0297f3da.parquet:   0%|          | 0.00/197M [00:00<?, ?B/s]"
      ]
     },
     "metadata": {},
     "output_type": "display_data"
    },
    {
     "data": {
      "application/vnd.jupyter.widget-view+json": {
       "model_id": "242b2e61b2d547be9b9c4b9d21ec4b22",
       "version_major": 2,
       "version_minor": 0
      },
      "text/plain": [
       "(…)-00139-of-00150-a6addb816e2b930a.parquet:   0%|          | 0.00/223M [00:00<?, ?B/s]"
      ]
     },
     "metadata": {},
     "output_type": "display_data"
    },
    {
     "data": {
      "application/vnd.jupyter.widget-view+json": {
       "model_id": "a8fc4d2bc5ce412c8fe1e5c67aca01d9",
       "version_major": 2,
       "version_minor": 0
      },
      "text/plain": [
       "(…)-00140-of-00150-2a6e6dd0cc0de880.parquet:   0%|          | 0.00/215M [00:00<?, ?B/s]"
      ]
     },
     "metadata": {},
     "output_type": "display_data"
    },
    {
     "data": {
      "application/vnd.jupyter.widget-view+json": {
       "model_id": "6365414f101f49f4abaa4b52b69cbddb",
       "version_major": 2,
       "version_minor": 0
      },
      "text/plain": [
       "(…)-00141-of-00150-f50a2d1d84252189.parquet:   0%|          | 0.00/198M [00:00<?, ?B/s]"
      ]
     },
     "metadata": {},
     "output_type": "display_data"
    },
    {
     "data": {
      "application/vnd.jupyter.widget-view+json": {
       "model_id": "a8612df7dd14413e9b2b95028c474e4d",
       "version_major": 2,
       "version_minor": 0
      },
      "text/plain": [
       "(…)-00142-of-00150-7d48c9e7045c762e.parquet:   0%|          | 0.00/187M [00:00<?, ?B/s]"
      ]
     },
     "metadata": {},
     "output_type": "display_data"
    },
    {
     "data": {
      "application/vnd.jupyter.widget-view+json": {
       "model_id": "9014be4ba239440c94a5deeac9c38311",
       "version_major": 2,
       "version_minor": 0
      },
      "text/plain": [
       "(…)-00143-of-00150-759bf9cd53cd7479.parquet:   0%|          | 0.00/187M [00:00<?, ?B/s]"
      ]
     },
     "metadata": {},
     "output_type": "display_data"
    },
    {
     "data": {
      "application/vnd.jupyter.widget-view+json": {
       "model_id": "4e7e16b4e1004b9c8670909ad3c1f1a8",
       "version_major": 2,
       "version_minor": 0
      },
      "text/plain": [
       "(…)-00144-of-00150-ad5bb4294849fbb4.parquet:   0%|          | 0.00/209M [00:00<?, ?B/s]"
      ]
     },
     "metadata": {},
     "output_type": "display_data"
    },
    {
     "data": {
      "application/vnd.jupyter.widget-view+json": {
       "model_id": "11b4937e2c01467aad3557f32fd35a31",
       "version_major": 2,
       "version_minor": 0
      },
      "text/plain": [
       "(…)-00145-of-00150-a8a2dedc22d62a1f.parquet:   0%|          | 0.00/205M [00:00<?, ?B/s]"
      ]
     },
     "metadata": {},
     "output_type": "display_data"
    },
    {
     "data": {
      "application/vnd.jupyter.widget-view+json": {
       "model_id": "dfcdd62e39cf495d9b1c2150887acef4",
       "version_major": 2,
       "version_minor": 0
      },
      "text/plain": [
       "(…)-00146-of-00150-a5a30365f6c7ffba.parquet:   0%|          | 0.00/196M [00:00<?, ?B/s]"
      ]
     },
     "metadata": {},
     "output_type": "display_data"
    },
    {
     "data": {
      "application/vnd.jupyter.widget-view+json": {
       "model_id": "12f4b86dc4b9455a85e0c45b23741fe1",
       "version_major": 2,
       "version_minor": 0
      },
      "text/plain": [
       "(…)-00147-of-00150-ef96b7e8aa92bd1c.parquet:   0%|          | 0.00/216M [00:00<?, ?B/s]"
      ]
     },
     "metadata": {},
     "output_type": "display_data"
    },
    {
     "data": {
      "application/vnd.jupyter.widget-view+json": {
       "model_id": "338a34577ad240e3b1561bc4a93cf1ac",
       "version_major": 2,
       "version_minor": 0
      },
      "text/plain": [
       "(…)-00148-of-00150-dc2187e9180420a0.parquet:   0%|          | 0.00/197M [00:00<?, ?B/s]"
      ]
     },
     "metadata": {},
     "output_type": "display_data"
    },
    {
     "data": {
      "application/vnd.jupyter.widget-view+json": {
       "model_id": "a90ba4d622434a5696453acc80678a73",
       "version_major": 2,
       "version_minor": 0
      },
      "text/plain": [
       "(…)-00149-of-00150-5d42e9bd3c89a65f.parquet:   0%|          | 0.00/183M [00:00<?, ?B/s]"
      ]
     },
     "metadata": {},
     "output_type": "display_data"
    },
    {
     "data": {
      "application/vnd.jupyter.widget-view+json": {
       "model_id": "0251385bcaee4e9ba7743ee26d6d3e33",
       "version_major": 2,
       "version_minor": 0
      },
      "text/plain": [
       "Generating train split:   0%|          | 0/6391639 [00:00<?, ? examples/s]"
      ]
     },
     "metadata": {},
     "output_type": "display_data"
    },
    {
     "data": {
      "application/vnd.jupyter.widget-view+json": {
       "model_id": "3384d0a9ccbf42a2b003c9a93d9fae13",
       "version_major": 2,
       "version_minor": 0
      },
      "text/plain": [
       "Map (num_proc=24):   0%|          | 0/63916 [00:00<?, ? examples/s]"
      ]
     },
     "metadata": {},
     "output_type": "display_data"
    }
   ],
   "source": [
    "# There is a default cache config that can also be modified when using a \"production\" script.\n",
    "cfg = CacheConfig(\n",
    "    dataset_repo=\"EleutherAI/rpj-v2-sample\",\n",
    "    dataset_split=\"train[:1%]\",\n",
    "    batch_size=8,\n",
    "    ctx_len=256,\n",
    "    n_tokens=1_000_000,\n",
    "    n_splits=5,\n",
    ")\n",
    "\n",
    "\n",
    "\n",
    "tokens = load_tokenized_data(\n",
    "        ctx_len=cfg.ctx_len,\n",
    "        tokenizer=model.tokenizer,\n",
    "        dataset_repo=cfg.dataset_repo,\n",
    "        dataset_split=cfg.dataset_split,\n",
    ")\n",
    "# Tokens should have the shape (n_batches,ctx_len)\n",
    "\n",
    "\n",
    "\n",
    "cache = FeatureCache(\n",
    "    model,\n",
    "    submodule_dict,\n",
    "    batch_size = cfg.batch_size,\n",
    ")"
   ]
  },
  {
   "cell_type": "markdown",
   "metadata": {},
   "source": [
    "# Running the cache and saving the results"
   ]
  },
  {
   "cell_type": "code",
   "execution_count": 6,
   "metadata": {},
   "outputs": [
    {
     "name": "stderr",
     "output_type": "stream",
     "text": [
      "Caching features:   0%|          | 0/488 [00:00<?, ?it/s]You're using a GemmaTokenizerFast tokenizer. Please note that with a fast tokenizer, using the `__call__` method is faster than using a method to encode the text followed by a call to the `pad` method to get a padded encoding.\n",
      "The 'batch_size' argument of HybridCache is deprecated and will be removed in v4.49. Use the more precisely named 'max_batch_size' argument instead.\n",
      "The 'batch_size' attribute of HybridCache is deprecated and will be removed in v4.49. Use the more precisely named 'self.max_batch_size' attribute instead.\n",
      "Caching features: 100%|██████████| 488/488 [04:59<00:00,  1.63it/s, Total Tokens=999,424]\n"
     ]
    },
    {
     "name": "stdout",
     "output_type": "stream",
     "text": [
      "Total tokens processed: 999,424\n"
     ]
    }
   ],
   "source": [
    "\n",
    "\n",
    "cache.run(cfg.n_tokens, tokens)\n",
    "\n",
    "cache.save_splits(\n",
    "    n_splits=cfg.n_splits,  # We split the activation and location indices into different files to make loading faster\n",
    "    save_dir=\"latents\"\n",
    ")\n",
    "\n",
    "# The config of the cache should be saved with the results such that it can be loaded later.\n",
    "\n",
    "cache.save_config(\n",
    "    save_dir=\"latents\",\n",
    "    cfg=cfg,\n",
    "    model_name=\"google/gemma-2-9b\"\n",
    ")"
   ]
  }
 ],
 "metadata": {
  "kernelspec": {
   "display_name": "base",
   "language": "python",
   "name": "python3"
  },
  "language_info": {
   "codemirror_mode": {
    "name": "ipython",
    "version": 3
   },
   "file_extension": ".py",
   "mimetype": "text/x-python",
   "name": "python",
   "nbconvert_exporter": "python",
   "pygments_lexer": "ipython3",
   "version": "3.12.7"
  }
 },
 "nbformat": 4,
 "nbformat_minor": 2
}
