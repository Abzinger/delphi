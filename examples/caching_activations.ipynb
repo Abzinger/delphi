{
 "cells": [
  {
   "cell_type": "markdown",
   "metadata": {},
   "source": [
    "# Caching Autoencoder Activations"
   ]
  },
  {
   "cell_type": "markdown",
   "metadata": {},
   "source": [
    "Here we show a minimal example of how to cache autoencoder activations after loading the autoencoders into a model. We use the Gemma autoencoders for this example, but the procedure is the same for the other autoencoders."
   ]
  },
  {
   "cell_type": "markdown",
   "metadata": {},
   "source": [
    "## Loading the Autoencoders"
   ]
  },
  {
   "cell_type": "markdown",
   "metadata": {},
   "source": [
    "This code could be substituted for any of the other autoencoders (see the [loading autoencoders](loading_saes.ipynb) example).\n"
   ]
  },
  {
   "cell_type": "code",
   "execution_count": null,
   "metadata": {},
   "outputs": [],
   "source": [
    "from nnsight import LanguageModel\n",
    "from sae_auto_interp.autoencoders import load_gemma_autoencoders\n"
   ]
  },
  {
   "cell_type": "code",
   "execution_count": null,
   "metadata": {},
   "outputs": [],
   "source": [
    "# Load the model\n",
    "model = LanguageModel(\"google/gemma-2-9b\", device_map=\"cuda\", dispatch=True,torch_dtype=\"bfloat16\")\n",
    "\n",
    "# Load the autoencoders, the function returns a dictionary of the submodules with the autoencoders and the edited model.\n",
    "# it takes as arguments the model, the layers to load the autoencoders into,\n",
    "# the average L0 sparsity per layer, the size of the autoencoders and the type of autoencoders (residuals or MLPs).\n",
    "\n",
    "submodule_dict,model = load_gemma_autoencoders(\n",
    "            model,\n",
    "            layers=[10],\n",
    "            average_l0s={10: 47},\n",
    "            size=\"131k\",\n",
    "            type=\"res\"\n",
    "        )"
   ]
  },
  {
   "cell_type": "markdown",
   "metadata": {},
   "source": [
    "## Loading the tokens and creating the cache"
   ]
  },
  {
   "cell_type": "code",
   "execution_count": 1,
   "metadata": {},
   "outputs": [],
   "source": [
    "from sae_auto_interp.config import CacheConfig\n",
    "from sae_auto_interp.features import FeatureCache\n",
    "from sae_auto_interp.utils import load_tokenized_data\n"
   ]
  },
  {
   "cell_type": "code",
   "execution_count": null,
   "metadata": {},
   "outputs": [],
   "source": [
    "# There is a default cache config that can also be modified when using a \"production\" script.\n",
    "cfg = CacheConfig(\n",
    "    dataset_repo=\"EleutherAI/rpj-v2-sample\",\n",
    "    dataset_split=\"train[:1%]\",\n",
    "    batch_size=32,\n",
    "    ctx_len=256,\n",
    "    n_tokens=10_000_000,\n",
    "    n_splits=5,\n",
    ")\n",
    "\n",
    "\n",
    "\n",
    "tokens = load_tokenized_data(\n",
    "        ctx_len=cfg.ctx_len,\n",
    "        tokenizer=model.tokenizer,\n",
    "        dataset_repo=cfg.dataset_repo,\n",
    "        dataset_split=cfg.dataset_split,\n",
    ")\n",
    "# Tokens should have the shape (n_batches,ctx_len)\n",
    "\n",
    "\n",
    "\n",
    "cache = FeatureCache(\n",
    "    model,\n",
    "    submodule_dict,\n",
    "    batch_size = cfg.batch_size,\n",
    ")"
   ]
  },
  {
   "cell_type": "markdown",
   "metadata": {},
   "source": [
    "# Running the cache and saving the results"
   ]
  },
  {
   "cell_type": "code",
   "execution_count": null,
   "metadata": {},
   "outputs": [],
   "source": [
    "\n",
    "\n",
    "cache.run(cfg.n_tokens, tokens)\n",
    "\n",
    "cache.save_splits(\n",
    "    n_splits=cfg.n_splits,  # We split the activation and location indices into different files to make loading faster\n",
    "    save_dir=\"latents_gemma\"\n",
    ")\n",
    "\n",
    "# The config of the cache should be saved with the results such that it can be loaded later.\n",
    "\n",
    "cache.save_config(\n",
    "    save_dir=\"raw_features_gemma\",\n",
    "    cfg=cfg,\n",
    "    model_name=\"google/gemma-2-9b\"\n",
    ")"
   ]
  },
  {
   "cell_type": "markdown",
   "metadata": {},
   "source": []
  }
 ],
 "metadata": {
  "kernelspec": {
   "display_name": "base",
   "language": "python",
   "name": "python3"
  },
  "language_info": {
   "codemirror_mode": {
    "name": "ipython",
    "version": 3
   },
   "file_extension": ".py",
   "mimetype": "text/x-python",
   "name": "python",
   "nbconvert_exporter": "python",
   "pygments_lexer": "ipython3",
   "version": "3.10.13"
  }
 },
 "nbformat": 4,
 "nbformat_minor": 2
}
